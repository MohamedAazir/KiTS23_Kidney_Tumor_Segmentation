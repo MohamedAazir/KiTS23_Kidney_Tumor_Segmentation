{
 "cells": [
  {
   "cell_type": "code",
   "execution_count": null,
   "id": "899e86e4",
   "metadata": {},
   "outputs": [],
   "source": [
    "#hansani"
   ]
  },
  {
   "cell_type": "code",
   "execution_count": null,
   "id": "9147f0d1",
   "metadata": {},
   "outputs": [],
   "source": []
  }
 ],
 "metadata": {
  "kernelspec": {
   "display_name": "Python 3",
   "language": "python",
   "name": "python3"
  },
  "language_info": {
   "name": "python",
   "version": "3.10.11"
  }
 },
 "nbformat": 4,
 "nbformat_minor": 5
}
