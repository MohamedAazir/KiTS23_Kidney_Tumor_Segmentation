{
  "cells": [
    {
      "cell_type": "code",
      "source": [
        "!rm -rf kits23\n"
      ],
      "metadata": {
        "id": "t_75EoXaagqv"
      },
      "id": "t_75EoXaagqv",
      "execution_count": 1,
      "outputs": []
    },
    {
      "cell_type": "code",
      "execution_count": null,
      "id": "899e86e4",
      "metadata": {
        "id": "899e86e4"
      },
      "outputs": [],
      "source": [
        "#hansani"
      ]
    }
  ],
  "metadata": {
    "kernelspec": {
      "display_name": "Python 3",
      "language": "python",
      "name": "python3"
    },
    "language_info": {
      "name": "python",
      "version": "3.10.11"
    },
    "colab": {
      "provenance": []
    }
  },
  "nbformat": 4,
  "nbformat_minor": 5
}