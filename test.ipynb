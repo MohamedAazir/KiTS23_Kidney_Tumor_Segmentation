{
  "cells": [
    {
      "cell_type": "code",
      "source": [
        "!rm -rf kits23\n"
      ],
      "metadata": {
        "id": "t_75EoXaagqv"
      },
      "id": "t_75EoXaagqv",
      "execution_count": 1,
      "outputs": []
    },
    {
      "cell_type": "code",
      "execution_count": null,
      "id": "899e86e4",
      "metadata": {
        "id": "899e86e4"
      },
      "outputs": [],
      "source": [
        "#hansani"
      ]
    },
    {
      "cell_type": "code",
      "source": [
        "# === 0. Install dependencies ===\n",
        "!pip install -q torch torchvision torchaudio --index-url https://download.pytorch.org/whl/cu118\n",
        "!pip install -q monai nibabel SimpleITK scikit-image scipy tqdm\n"
      ],
      "metadata": {
        "id": "7OUuxmaa1GMq",
        "outputId": "f79c4519-0e80-43d9-f4df-5aa4891b04ae",
        "colab": {
          "base_uri": "https://localhost:8080/"
        }
      },
      "id": "7OUuxmaa1GMq",
      "execution_count": 2,
      "outputs": [
        {
          "output_type": "stream",
          "name": "stdout",
          "text": [
            "\u001b[?25l   \u001b[90m━━━━━━━━━━━━━━━━━━━━━━━━━━━━━━━━━━━━━━━━\u001b[0m \u001b[32m0.0/2.7 MB\u001b[0m \u001b[31m?\u001b[0m eta \u001b[36m-:--:--\u001b[0m\r\u001b[2K   \u001b[91m━━━━\u001b[0m\u001b[90m╺\u001b[0m\u001b[90m━━━━━━━━━━━━━━━━━━━━━━━━━━━━━━━━━━━\u001b[0m \u001b[32m0.3/2.7 MB\u001b[0m \u001b[31m9.3 MB/s\u001b[0m eta \u001b[36m0:00:01\u001b[0m\r\u001b[2K   \u001b[91m━━━━━━━━━━━━━━━━━━━━━━━━━━━━━━━━━━━━━━━\u001b[0m\u001b[91m╸\u001b[0m \u001b[32m2.7/2.7 MB\u001b[0m \u001b[31m39.3 MB/s\u001b[0m eta \u001b[36m0:00:01\u001b[0m\r\u001b[2K   \u001b[90m━━━━━━━━━━━━━━━━━━━━━━━━━━━━━━━━━━━━━━━━\u001b[0m \u001b[32m2.7/2.7 MB\u001b[0m \u001b[31m26.8 MB/s\u001b[0m eta \u001b[36m0:00:00\u001b[0m\n",
            "\u001b[?25h"
          ]
        }
      ]
    },
    {
      "cell_type": "code",
      "source": [
        "# === 1. Imports & utility functions ===\n",
        "import os\n",
        "import glob\n",
        "import json\n",
        "import nibabel as nib\n",
        "import numpy as np\n",
        "from scipy import ndimage\n",
        "from tqdm import tqdm"
      ],
      "metadata": {
        "id": "KGjibIm41YRx"
      },
      "id": "KGjibIm41YRx",
      "execution_count": 3,
      "outputs": []
    },
    {
      "cell_type": "code",
      "source": [
        "# === 2. Paths & dataset JSON creation ===\n",
        "# Adjust these paths to match how your dataset is mounted in Colab\n",
        "DATA_ROOT = \"/content/kits23/dataset\"   # root folder containing imagesTr/ and labelsTr/\n",
        "CROPPED_ROOT = \"/content/kits23/cropped\"\n",
        "os.makedirs(CROPPED_ROOT, exist_ok=True)"
      ],
      "metadata": {
        "id": "lHUtMvcy1aRL"
      },
      "id": "lHUtMvcy1aRL",
      "execution_count": 4,
      "outputs": []
    },
    {
      "cell_type": "code",
      "source": [
        "# find image and label paths\n",
        "images_tr = sorted(glob.glob(os.path.join(DATA_ROOT, \"imagesTr\", \"*.nii*\")) +\n",
        "                   glob.glob(os.path.join(DATA_ROOT, \"imagesTr\", \"*.nii.gz\")))\n",
        "labels_tr = sorted(glob.glob(os.path.join(DATA_ROOT, \"labelsTr\", \"*.nii*\")) +\n",
        "                   glob.glob(os.path.join(DATA_ROOT, \"labelsTr\", \"*.nii.gz\")))\n",
        "\n",
        "assert len(images_tr) == len(labels_tr), f\"Mismatch images {len(images_tr)} vs labels {len(labels_tr)}\"\n"
      ],
      "metadata": {
        "id": "kQya8TDN1iWG"
      },
      "id": "kQya8TDN1iWG",
      "execution_count": 5,
      "outputs": []
    },
    {
      "cell_type": "code",
      "source": [
        "# Build dataset.json relative to DATAROOT\n",
        "datalist = {\"training\": []}\n",
        "for img_p, lbl_p in zip(images_tr, labels_tr):\n",
        "    rel_img = os.path.relpath(img_p, start=DATA_ROOT)\n",
        "    rel_lbl = os.path.relpath(lbl_p, start=DATA_ROOT)\n",
        "    datalist[\"training\"].append({\n",
        "        \"image\": rel_img,\n",
        "        \"label\": rel_lbl,\n",
        "        \"image_filename\": os.path.basename(img_p)\n",
        "    })\n",
        "\n",
        "dataset_json = {\n",
        "    \"name\": \"KiTS23\",\n",
        "    \"description\": \"KiTS23 dataset for Auto3DSeg\",\n",
        "    \"reference\": \"\",\n",
        "    \"licence\": \"\",\n",
        "    \"release\": \"0.0\",\n",
        "    \"modality\": {\"0\": \"CT\"},\n",
        "    \"labels\": {\"0\": \"background\", \"1\": \"kidney_and_mass\", \"2\": \"mass\", \"3\": \"tumor\"},\n",
        "    \"numTraining\": len(datalist[\"training\"]),\n",
        "    \"training\": datalist[\"training\"],\n",
        "    \"test\": []\n",
        "}\n",
        "\n",
        "with open(os.path.join(DATA_ROOT, \"dataset.json\"), \"w\") as f:\n",
        "    json.dump(dataset_json, f, indent=2)\n",
        "print(\"Wrote dataset.json with\", len(datalist[\"training\"]), \"cases\")\n",
        "\n"
      ],
      "metadata": {
        "id": "HaOaXSYD1nQ1",
        "outputId": "22cf5def-7437-40f2-e031-d89acbaedaf1",
        "colab": {
          "base_uri": "https://localhost:8080/"
        }
      },
      "id": "HaOaXSYD1nQ1",
      "execution_count": 6,
      "outputs": [
        {
          "output_type": "stream",
          "name": "stdout",
          "text": [
            "Wrote dataset.json with 0 cases\n"
          ]
        }
      ]
    },
    {
      "cell_type": "code",
      "source": [
        "# === 3. Cropping strategy: coarse bounding box cropping (kidney region) ===\n",
        "def crop_volume_to_kidney_bbox(img_path, lbl_path, pad=10):\n",
        "    img = nib.load(img_path)\n",
        "    lbl = nib.load(lbl_path)\n",
        "    img_arr = img.get_fdata()\n",
        "    lbl_arr = lbl.get_fdata()\n",
        "    fg = lbl_arr > 0\n",
        "    coords = np.array(np.nonzero(fg))\n",
        "    if coords.size == 0:\n",
        "        # nothing to crop\n",
        "        return None, None, None\n",
        "    mins = coords.min(axis=1)\n",
        "    maxs = coords.max(axis=1)\n",
        "    # pad\n",
        "    mins = np.maximum(mins - pad, 0)\n",
        "    maxs = np.minimum(maxs + pad, np.array(lbl_arr.shape) - 1)\n",
        "    cropped_img = img_arr[mins[0]: maxs[0] + 1,\n",
        "                          mins[1]: maxs[1] + 1,\n",
        "                          mins[2]: maxs[2] + 1]\n",
        "    cropped_lbl = lbl_arr[mins[0]: maxs[0] + 1,\n",
        "                          mins[1]: maxs[1] + 1,\n",
        "                          mins[2]: maxs[2] + 1]\n",
        "    # create new affine mapping\n",
        "    new_affine = img.affine.copy()\n",
        "    # shift the origin: new_affine = original_affine + translation\n",
        "    new_affine[:3, 3] += img.affine[:3, :3].dot(mins)\n",
        "    return cropped_img, cropped_lbl, new_affine\n"
      ],
      "metadata": {
        "id": "xeRS5w2I1yGz"
      },
      "id": "xeRS5w2I1yGz",
      "execution_count": 7,
      "outputs": []
    },
    {
      "cell_type": "code",
      "source": [
        "print(\"Cropping all training volumes to kidney bounding boxes (with padding)...\")\n",
        "for img_p, lbl_p in tqdm(zip(images_tr, labels_tr), total=len(images_tr)):\n",
        "    cropped_img, cropped_lbl, aff = crop_volume_to_kidney_bbox(img_p, lbl_p, pad=10)\n",
        "    if cropped_img is None:\n",
        "        continue\n",
        "    # save cropped image and label as new NIfTI\n",
        "    base = os.path.basename(img_p)\n",
        "    out_img = nib.Nifti1Image(cropped_img.astype(np.float32), aff)\n",
        "    out_lbl = nib.Nifti1Image(cropped_lbl.astype(np.uint8), aff)\n",
        "    nib.save(out_img, os.path.join(CROPPED_ROOT, base))\n",
        "    nib.save(out_lbl, os.path.join(CROPPED_ROOT, os.path.basename(lbl_p)))\n"
      ],
      "metadata": {
        "id": "bU-8Ge4t18E4",
        "outputId": "558189ac-889a-4cd2-94b8-83f4e859d24a",
        "colab": {
          "base_uri": "https://localhost:8080/"
        }
      },
      "id": "bU-8Ge4t18E4",
      "execution_count": 8,
      "outputs": [
        {
          "output_type": "stream",
          "name": "stdout",
          "text": [
            "Cropping all training volumes to kidney bounding boxes (with padding)...\n"
          ]
        },
        {
          "output_type": "stream",
          "name": "stderr",
          "text": [
            "0it [00:00, ?it/s]\n"
          ]
        }
      ]
    },
    {
      "cell_type": "code",
      "source": [
        "# After cropping, you can choose to train your networks on cropped volumes by changing your datalist to point to CROPPED_ROOT instead of original.\n",
        "\n",
        "# === 4. Prepare input.yaml for Auto3DSeg ===\n",
        "input_yaml = {\n",
        "    \"modality\": \"CT\",\n",
        "    \"datalist\": \"dataset.json\",\n",
        "    \"dataroot\": \"./dataset\",   # this is relative to working directory, adjust if needed\n",
        "    \"class_names\": [\n",
        "        {\"name\": \"kidney_and_mass\", \"index\": [1, 2, 3]},\n",
        "        {\"name\": \"mass\", \"index\": [2, 3]},\n",
        "        {\"name\": \"tumor\", \"index\": [2]}\n",
        "    ],\n",
        "    \"sigmoid\": True\n",
        "}\n",
        "with open(os.path.join(DATA_ROOT, \"input.yaml\"), \"w\") as f:\n",
        "    json.dump(input_yaml, f, indent=2)\n",
        "print(\"Wrote input.yaml\")"
      ],
      "metadata": {
        "id": "olGcRRk21-Yb",
        "outputId": "60bb2417-3641-4ae5-c063-2f4476e371a2",
        "colab": {
          "base_uri": "https://localhost:8080/"
        }
      },
      "id": "olGcRRk21-Yb",
      "execution_count": 19,
      "outputs": [
        {
          "output_type": "stream",
          "name": "stdout",
          "text": [
            "Wrote input.yaml\n"
          ]
        }
      ]
    },
    {
      "cell_type": "code",
      "source": [
        "!pip uninstall -y nni"
      ],
      "metadata": {
        "id": "mQ6Yi3k33tJU",
        "outputId": "adaae032-407e-4097-db2c-7959d9a20e00",
        "colab": {
          "base_uri": "https://localhost:8080/"
        }
      },
      "id": "mQ6Yi3k33tJU",
      "execution_count": 14,
      "outputs": [
        {
          "output_type": "stream",
          "name": "stdout",
          "text": [
            "Found existing installation: nni 3.0\n",
            "Uninstalling nni-3.0:\n",
            "  Successfully uninstalled nni-3.0\n"
          ]
        }
      ]
    },
    {
      "cell_type": "code",
      "source": [
        "!pip install --upgrade filelock"
      ],
      "metadata": {
        "id": "jOyj4TJe3vh1",
        "outputId": "e9476f45-45c6-43a5-bba9-2328b52f4787",
        "colab": {
          "base_uri": "https://localhost:8080/"
        }
      },
      "id": "jOyj4TJe3vh1",
      "execution_count": 15,
      "outputs": [
        {
          "output_type": "stream",
          "name": "stdout",
          "text": [
            "Requirement already satisfied: filelock in /usr/local/lib/python3.12/dist-packages (3.20.0)\n"
          ]
        }
      ]
    },
    {
      "cell_type": "code",
      "source": [
        "!pip install -q \"monai[all]\" fire --upgrade"
      ],
      "metadata": {
        "id": "nOBYHw3-30dq",
        "outputId": "b0cfaf1e-2ee7-428d-a86e-4a3203de4285",
        "colab": {
          "base_uri": "https://localhost:8080/"
        }
      },
      "id": "nOBYHw3-30dq",
      "execution_count": 16,
      "outputs": [
        {
          "output_type": "stream",
          "name": "stdout",
          "text": [
            "\u001b[31mERROR: pip's dependency resolver does not currently take into account all the packages that are installed. This behaviour is the source of the following dependency conflicts.\n",
            "pytensor 2.31.7 requires filelock>=3.15, but you have filelock 3.11.0 which is incompatible.\u001b[0m\u001b[31m\n",
            "\u001b[0m"
          ]
        }
      ]
    },
    {
      "cell_type": "code",
      "source": [
        "# 1. Uninstall conflicting packages\n",
        "!pip uninstall -y nni filelock pytensor\n",
        "\n",
        "# 2. Upgrade pip to latest\n",
        "!pip install --upgrade pip\n",
        "\n",
        "# 3. Install MONAI with all optional dependencies + fire\n",
        "!pip install \"monai[all]\" fire --upgrade\n",
        "\n",
        "# 4. Verify versions\n",
        "!pip show monai filelock fire\n"
      ],
      "metadata": {
        "id": "fTjWFTpu4G5H",
        "outputId": "f3d8ac27-660d-4985-8658-16bfa30fe612",
        "colab": {
          "base_uri": "https://localhost:8080/"
        }
      },
      "id": "fTjWFTpu4G5H",
      "execution_count": 17,
      "outputs": [
        {
          "output_type": "stream",
          "name": "stdout",
          "text": [
            "Found existing installation: nni 3.0\n",
            "Uninstalling nni-3.0:\n",
            "  Successfully uninstalled nni-3.0\n",
            "Found existing installation: filelock 3.11.0\n",
            "Uninstalling filelock-3.11.0:\n",
            "  Successfully uninstalled filelock-3.11.0\n",
            "Found existing installation: pytensor 2.31.7\n",
            "Uninstalling pytensor-2.31.7:\n",
            "  Successfully uninstalled pytensor-2.31.7\n",
            "Requirement already satisfied: pip in /usr/local/lib/python3.12/dist-packages (24.1.2)\n",
            "Collecting pip\n",
            "  Downloading pip-25.2-py3-none-any.whl.metadata (4.7 kB)\n",
            "Downloading pip-25.2-py3-none-any.whl (1.8 MB)\n",
            "\u001b[2K   \u001b[90m━━━━━━━━━━━━━━━━━━━━━━━━━━━━━━━━━━━━━━━━\u001b[0m \u001b[32m1.8/1.8 MB\u001b[0m \u001b[31m22.2 MB/s\u001b[0m eta \u001b[36m0:00:00\u001b[0m\n",
            "\u001b[?25hInstalling collected packages: pip\n",
            "  Attempting uninstall: pip\n",
            "    Found existing installation: pip 24.1.2\n",
            "    Uninstalling pip-24.1.2:\n",
            "      Successfully uninstalled pip-24.1.2\n",
            "Successfully installed pip-25.2\n",
            "Requirement already satisfied: fire in /usr/local/lib/python3.12/dist-packages (0.7.1)\n",
            "Requirement already satisfied: monai[all] in /usr/local/lib/python3.12/dist-packages (1.5.1)\n",
            "Requirement already satisfied: numpy<3.0,>=1.24 in /usr/local/lib/python3.12/dist-packages (from monai[all]) (2.0.2)\n",
            "Requirement already satisfied: torch>=2.4.1 in /usr/local/lib/python3.12/dist-packages (from monai[all]) (2.8.0+cu126)\n",
            "Requirement already satisfied: clearml>=1.10.0rc0 in /usr/local/lib/python3.12/dist-packages (from monai[all]) (2.0.3rc0)\n",
            "Requirement already satisfied: einops in /usr/local/lib/python3.12/dist-packages (from monai[all]) (0.8.1)\n",
            "Requirement already satisfied: gdown>=4.7.3 in /usr/local/lib/python3.12/dist-packages (from monai[all]) (5.2.0)\n",
            "Requirement already satisfied: h5py in /usr/local/lib/python3.12/dist-packages (from monai[all]) (3.14.0)\n",
            "Requirement already satisfied: huggingface-hub in /usr/local/lib/python3.12/dist-packages (from monai[all]) (0.35.3)\n",
            "Requirement already satisfied: itk>=5.2 in /usr/local/lib/python3.12/dist-packages (from monai[all]) (5.4.4.post1)\n",
            "Requirement already satisfied: jsonschema in /usr/local/lib/python3.12/dist-packages (from monai[all]) (4.25.1)\n",
            "Requirement already satisfied: lmdb in /usr/local/lib/python3.12/dist-packages (from monai[all]) (1.7.3)\n",
            "Requirement already satisfied: lpips==0.1.4 in /usr/local/lib/python3.12/dist-packages (from monai[all]) (0.1.4)\n",
            "Requirement already satisfied: matplotlib>=3.6.3 in /usr/local/lib/python3.12/dist-packages (from monai[all]) (3.10.0)\n",
            "Requirement already satisfied: mlflow>=2.12.2 in /usr/local/lib/python3.12/dist-packages (from monai[all]) (3.4.0)\n",
            "Requirement already satisfied: nibabel in /usr/local/lib/python3.12/dist-packages (from monai[all]) (5.3.2)\n",
            "Requirement already satisfied: ninja in /usr/local/lib/python3.12/dist-packages (from monai[all]) (1.13.0)\n",
            "Requirement already satisfied: nvidia-ml-py in /usr/local/lib/python3.12/dist-packages (from monai[all]) (12.575.51)\n",
            "Requirement already satisfied: onnx>=1.13.0 in /usr/local/lib/python3.12/dist-packages (from monai[all]) (1.19.1)\n",
            "Requirement already satisfied: openslide-bin in /usr/local/lib/python3.12/dist-packages (from monai[all]) (4.0.0.8)\n",
            "Requirement already satisfied: openslide-python in /usr/local/lib/python3.12/dist-packages (from monai[all]) (1.4.2)\n",
            "Requirement already satisfied: optuna in /usr/local/lib/python3.12/dist-packages (from monai[all]) (4.5.0)\n",
            "Requirement already satisfied: pandas in /usr/local/lib/python3.12/dist-packages (from monai[all]) (2.2.2)\n",
            "Requirement already satisfied: pillow in /usr/local/lib/python3.12/dist-packages (from monai[all]) (11.3.0)\n",
            "Requirement already satisfied: psutil in /usr/local/lib/python3.12/dist-packages (from monai[all]) (5.9.5)\n",
            "Requirement already satisfied: pyamg<5.3.0,>=5.0.0 in /usr/local/lib/python3.12/dist-packages (from monai[all]) (5.2.1)\n",
            "Requirement already satisfied: pydicom in /usr/local/lib/python3.12/dist-packages (from monai[all]) (3.0.1)\n",
            "Requirement already satisfied: pynrrd in /usr/local/lib/python3.12/dist-packages (from monai[all]) (1.1.3)\n",
            "Requirement already satisfied: pytorch-ignite==0.4.11 in /usr/local/lib/python3.12/dist-packages (from monai[all]) (0.4.11)\n",
            "Requirement already satisfied: pyyaml in /usr/local/lib/python3.12/dist-packages (from monai[all]) (6.0.3)\n",
            "Requirement already satisfied: scikit-image>=0.14.2 in /usr/local/lib/python3.12/dist-packages (from monai[all]) (0.25.2)\n",
            "Requirement already satisfied: tensorboard in /usr/local/lib/python3.12/dist-packages (from monai[all]) (2.19.0)\n",
            "Requirement already satisfied: tensorboardX in /usr/local/lib/python3.12/dist-packages (from monai[all]) (2.6.4)\n",
            "Requirement already satisfied: torchio in /usr/local/lib/python3.12/dist-packages (from monai[all]) (0.20.23)\n",
            "Requirement already satisfied: torchvision in /usr/local/lib/python3.12/dist-packages (from monai[all]) (0.23.0+cu126)\n",
            "Requirement already satisfied: tqdm>=4.47.0 in /usr/local/lib/python3.12/dist-packages (from monai[all]) (4.67.1)\n",
            "Requirement already satisfied: zarr in /usr/local/lib/python3.12/dist-packages (from monai[all]) (3.1.3)\n",
            "Collecting nni (from monai[all])\n",
            "  Using cached nni-3.0-py3-none-manylinux1_x86_64.whl.metadata (19 kB)\n",
            "Requirement already satisfied: imagecodecs in /usr/local/lib/python3.12/dist-packages (from monai[all]) (2025.8.2)\n",
            "Requirement already satisfied: tifffile in /usr/local/lib/python3.12/dist-packages (from monai[all]) (2025.10.4)\n",
            "Requirement already satisfied: scipy>=1.12.0 in /usr/local/lib/python3.12/dist-packages (from monai[all]) (1.16.2)\n",
            "Requirement already satisfied: packaging in /usr/local/lib/python3.12/dist-packages (from pytorch-ignite==0.4.11->monai[all]) (25.0)\n",
            "Collecting filelock (from torch>=2.4.1->monai[all])\n",
            "  Using cached filelock-3.20.0-py3-none-any.whl.metadata (2.1 kB)\n",
            "Requirement already satisfied: typing-extensions>=4.10.0 in /usr/local/lib/python3.12/dist-packages (from torch>=2.4.1->monai[all]) (4.15.0)\n",
            "Requirement already satisfied: setuptools in /usr/local/lib/python3.12/dist-packages (from torch>=2.4.1->monai[all]) (75.2.0)\n",
            "Requirement already satisfied: sympy>=1.13.3 in /usr/local/lib/python3.12/dist-packages (from torch>=2.4.1->monai[all]) (1.13.3)\n",
            "Requirement already satisfied: networkx in /usr/local/lib/python3.12/dist-packages (from torch>=2.4.1->monai[all]) (3.5)\n",
            "Requirement already satisfied: jinja2 in /usr/local/lib/python3.12/dist-packages (from torch>=2.4.1->monai[all]) (3.1.6)\n",
            "Requirement already satisfied: fsspec in /usr/local/lib/python3.12/dist-packages (from torch>=2.4.1->monai[all]) (2025.3.0)\n",
            "Requirement already satisfied: nvidia-cuda-nvrtc-cu12==12.6.77 in /usr/local/lib/python3.12/dist-packages (from torch>=2.4.1->monai[all]) (12.6.77)\n",
            "Requirement already satisfied: nvidia-cuda-runtime-cu12==12.6.77 in /usr/local/lib/python3.12/dist-packages (from torch>=2.4.1->monai[all]) (12.6.77)\n",
            "Requirement already satisfied: nvidia-cuda-cupti-cu12==12.6.80 in /usr/local/lib/python3.12/dist-packages (from torch>=2.4.1->monai[all]) (12.6.80)\n",
            "Requirement already satisfied: nvidia-cudnn-cu12==9.10.2.21 in /usr/local/lib/python3.12/dist-packages (from torch>=2.4.1->monai[all]) (9.10.2.21)\n",
            "Requirement already satisfied: nvidia-cublas-cu12==12.6.4.1 in /usr/local/lib/python3.12/dist-packages (from torch>=2.4.1->monai[all]) (12.6.4.1)\n",
            "Requirement already satisfied: nvidia-cufft-cu12==11.3.0.4 in /usr/local/lib/python3.12/dist-packages (from torch>=2.4.1->monai[all]) (11.3.0.4)\n",
            "Requirement already satisfied: nvidia-curand-cu12==10.3.7.77 in /usr/local/lib/python3.12/dist-packages (from torch>=2.4.1->monai[all]) (10.3.7.77)\n",
            "Requirement already satisfied: nvidia-cusolver-cu12==11.7.1.2 in /usr/local/lib/python3.12/dist-packages (from torch>=2.4.1->monai[all]) (11.7.1.2)\n",
            "Requirement already satisfied: nvidia-cusparse-cu12==12.5.4.2 in /usr/local/lib/python3.12/dist-packages (from torch>=2.4.1->monai[all]) (12.5.4.2)\n",
            "Requirement already satisfied: nvidia-cusparselt-cu12==0.7.1 in /usr/local/lib/python3.12/dist-packages (from torch>=2.4.1->monai[all]) (0.7.1)\n",
            "Requirement already satisfied: nvidia-nccl-cu12==2.27.3 in /usr/local/lib/python3.12/dist-packages (from torch>=2.4.1->monai[all]) (2.27.3)\n",
            "Requirement already satisfied: nvidia-nvtx-cu12==12.6.77 in /usr/local/lib/python3.12/dist-packages (from torch>=2.4.1->monai[all]) (12.6.77)\n",
            "Requirement already satisfied: nvidia-nvjitlink-cu12==12.6.85 in /usr/local/lib/python3.12/dist-packages (from torch>=2.4.1->monai[all]) (12.6.85)\n",
            "Requirement already satisfied: nvidia-cufile-cu12==1.11.1.6 in /usr/local/lib/python3.12/dist-packages (from torch>=2.4.1->monai[all]) (1.11.1.6)\n",
            "Requirement already satisfied: triton==3.4.0 in /usr/local/lib/python3.12/dist-packages (from torch>=2.4.1->monai[all]) (3.4.0)\n",
            "Requirement already satisfied: termcolor in /usr/local/lib/python3.12/dist-packages (from fire) (3.1.0)\n",
            "Requirement already satisfied: attrs>=18.0 in /usr/local/lib/python3.12/dist-packages (from clearml>=1.10.0rc0->monai[all]) (25.4.0)\n",
            "Requirement already satisfied: furl>=2.0.0 in /usr/local/lib/python3.12/dist-packages (from clearml>=1.10.0rc0->monai[all]) (2.1.4)\n",
            "Requirement already satisfied: pathlib2>=2.3.0 in /usr/local/lib/python3.12/dist-packages (from clearml>=1.10.0rc0->monai[all]) (2.3.7.post1)\n",
            "Requirement already satisfied: pyparsing>=2.0.3 in /usr/local/lib/python3.12/dist-packages (from clearml>=1.10.0rc0->monai[all]) (3.2.5)\n",
            "Requirement already satisfied: python-dateutil>=2.6.1 in /usr/local/lib/python3.12/dist-packages (from clearml>=1.10.0rc0->monai[all]) (2.9.0.post0)\n",
            "Requirement already satisfied: pyjwt<2.11.0,>=2.4.0 in /usr/local/lib/python3.12/dist-packages (from clearml>=1.10.0rc0->monai[all]) (2.10.1)\n",
            "Requirement already satisfied: six>=1.16.0 in /usr/local/lib/python3.12/dist-packages (from clearml>=1.10.0rc0->monai[all]) (1.17.0)\n",
            "Requirement already satisfied: urllib3>=1.21.1 in /usr/local/lib/python3.12/dist-packages (from clearml>=1.10.0rc0->monai[all]) (2.5.0)\n",
            "Requirement already satisfied: referencing<0.40 in /usr/local/lib/python3.12/dist-packages (from clearml>=1.10.0rc0->monai[all]) (0.36.2)\n",
            "Requirement already satisfied: requests>=2.32.0 in /usr/local/lib/python3.12/dist-packages (from clearml>=1.10.0rc0->monai[all]) (2.32.4)\n",
            "Requirement already satisfied: rpds-py>=0.7.0 in /usr/local/lib/python3.12/dist-packages (from referencing<0.40->clearml>=1.10.0rc0->monai[all]) (0.27.1)\n",
            "Requirement already satisfied: orderedmultidict>=1.0.1 in /usr/local/lib/python3.12/dist-packages (from furl>=2.0.0->clearml>=1.10.0rc0->monai[all]) (1.0.1)\n",
            "Requirement already satisfied: beautifulsoup4 in /usr/local/lib/python3.12/dist-packages (from gdown>=4.7.3->monai[all]) (4.13.5)\n",
            "Requirement already satisfied: itk-core==5.4.4.post1 in /usr/local/lib/python3.12/dist-packages (from itk>=5.2->monai[all]) (5.4.4.post1)\n",
            "Requirement already satisfied: itk-numerics==5.4.4.post1 in /usr/local/lib/python3.12/dist-packages (from itk>=5.2->monai[all]) (5.4.4.post1)\n",
            "Requirement already satisfied: itk-io==5.4.4.post1 in /usr/local/lib/python3.12/dist-packages (from itk>=5.2->monai[all]) (5.4.4.post1)\n",
            "Requirement already satisfied: itk-filtering==5.4.4.post1 in /usr/local/lib/python3.12/dist-packages (from itk>=5.2->monai[all]) (5.4.4.post1)\n",
            "Requirement already satisfied: itk-registration==5.4.4.post1 in /usr/local/lib/python3.12/dist-packages (from itk>=5.2->monai[all]) (5.4.4.post1)\n",
            "Requirement already satisfied: itk-segmentation==5.4.4.post1 in /usr/local/lib/python3.12/dist-packages (from itk>=5.2->monai[all]) (5.4.4.post1)\n",
            "Requirement already satisfied: jsonschema-specifications>=2023.03.6 in /usr/local/lib/python3.12/dist-packages (from jsonschema->monai[all]) (2025.9.1)\n",
            "Requirement already satisfied: contourpy>=1.0.1 in /usr/local/lib/python3.12/dist-packages (from matplotlib>=3.6.3->monai[all]) (1.3.3)\n",
            "Requirement already satisfied: cycler>=0.10 in /usr/local/lib/python3.12/dist-packages (from matplotlib>=3.6.3->monai[all]) (0.12.1)\n",
            "Requirement already satisfied: fonttools>=4.22.0 in /usr/local/lib/python3.12/dist-packages (from matplotlib>=3.6.3->monai[all]) (4.60.1)\n",
            "Requirement already satisfied: kiwisolver>=1.3.1 in /usr/local/lib/python3.12/dist-packages (from matplotlib>=3.6.3->monai[all]) (1.4.9)\n",
            "Requirement already satisfied: mlflow-skinny==3.4.0 in /usr/local/lib/python3.12/dist-packages (from mlflow>=2.12.2->monai[all]) (3.4.0)\n",
            "Requirement already satisfied: mlflow-tracing==3.4.0 in /usr/local/lib/python3.12/dist-packages (from mlflow>=2.12.2->monai[all]) (3.4.0)\n",
            "Requirement already satisfied: Flask<4 in /usr/local/lib/python3.12/dist-packages (from mlflow>=2.12.2->monai[all]) (3.1.2)\n",
            "Requirement already satisfied: alembic!=1.10.0,<2 in /usr/local/lib/python3.12/dist-packages (from mlflow>=2.12.2->monai[all]) (1.16.5)\n",
            "Requirement already satisfied: cryptography<46,>=43.0.0 in /usr/local/lib/python3.12/dist-packages (from mlflow>=2.12.2->monai[all]) (43.0.3)\n",
            "Requirement already satisfied: docker<8,>=4.0.0 in /usr/local/lib/python3.12/dist-packages (from mlflow>=2.12.2->monai[all]) (7.1.0)\n",
            "Requirement already satisfied: fastmcp<3,>=2.0.0 in /usr/local/lib/python3.12/dist-packages (from mlflow>=2.12.2->monai[all]) (2.12.4)\n",
            "Requirement already satisfied: graphene<4 in /usr/local/lib/python3.12/dist-packages (from mlflow>=2.12.2->monai[all]) (3.4.3)\n",
            "Requirement already satisfied: gunicorn<24 in /usr/local/lib/python3.12/dist-packages (from mlflow>=2.12.2->monai[all]) (23.0.0)\n",
            "Requirement already satisfied: pyarrow<22,>=4.0.0 in /usr/local/lib/python3.12/dist-packages (from mlflow>=2.12.2->monai[all]) (18.1.0)\n",
            "Requirement already satisfied: scikit-learn<2 in /usr/local/lib/python3.12/dist-packages (from mlflow>=2.12.2->monai[all]) (1.6.1)\n",
            "Requirement already satisfied: sqlalchemy<3,>=1.4.0 in /usr/local/lib/python3.12/dist-packages (from mlflow>=2.12.2->monai[all]) (2.0.43)\n",
            "Requirement already satisfied: cachetools<7,>=5.0.0 in /usr/local/lib/python3.12/dist-packages (from mlflow-skinny==3.4.0->mlflow>=2.12.2->monai[all]) (5.5.2)\n",
            "Requirement already satisfied: click<9,>=7.0 in /usr/local/lib/python3.12/dist-packages (from mlflow-skinny==3.4.0->mlflow>=2.12.2->monai[all]) (8.3.0)\n",
            "Requirement already satisfied: cloudpickle<4 in /usr/local/lib/python3.12/dist-packages (from mlflow-skinny==3.4.0->mlflow>=2.12.2->monai[all]) (3.1.1)\n",
            "Requirement already satisfied: databricks-sdk<1,>=0.20.0 in /usr/local/lib/python3.12/dist-packages (from mlflow-skinny==3.4.0->mlflow>=2.12.2->monai[all]) (0.67.0)\n",
            "Requirement already satisfied: fastapi<1 in /usr/local/lib/python3.12/dist-packages (from mlflow-skinny==3.4.0->mlflow>=2.12.2->monai[all]) (0.118.2)\n",
            "Requirement already satisfied: gitpython<4,>=3.1.9 in /usr/local/lib/python3.12/dist-packages (from mlflow-skinny==3.4.0->mlflow>=2.12.2->monai[all]) (3.1.45)\n",
            "Requirement already satisfied: importlib_metadata!=4.7.0,<9,>=3.7.0 in /usr/local/lib/python3.12/dist-packages (from mlflow-skinny==3.4.0->mlflow>=2.12.2->monai[all]) (8.7.0)\n",
            "Requirement already satisfied: opentelemetry-api<3,>=1.9.0 in /usr/local/lib/python3.12/dist-packages (from mlflow-skinny==3.4.0->mlflow>=2.12.2->monai[all]) (1.37.0)\n",
            "Requirement already satisfied: opentelemetry-proto<3,>=1.9.0 in /usr/local/lib/python3.12/dist-packages (from mlflow-skinny==3.4.0->mlflow>=2.12.2->monai[all]) (1.37.0)\n",
            "Requirement already satisfied: opentelemetry-sdk<3,>=1.9.0 in /usr/local/lib/python3.12/dist-packages (from mlflow-skinny==3.4.0->mlflow>=2.12.2->monai[all]) (1.37.0)\n",
            "Requirement already satisfied: protobuf<7,>=3.12.0 in /usr/local/lib/python3.12/dist-packages (from mlflow-skinny==3.4.0->mlflow>=2.12.2->monai[all]) (5.29.5)\n",
            "Requirement already satisfied: pydantic<3,>=1.10.8 in /usr/local/lib/python3.12/dist-packages (from mlflow-skinny==3.4.0->mlflow>=2.12.2->monai[all]) (2.11.10)\n",
            "Requirement already satisfied: python-dotenv<2,>=0.19.0 in /usr/local/lib/python3.12/dist-packages (from mlflow-skinny==3.4.0->mlflow>=2.12.2->monai[all]) (1.1.1)\n",
            "Requirement already satisfied: sqlparse<1,>=0.4.0 in /usr/local/lib/python3.12/dist-packages (from mlflow-skinny==3.4.0->mlflow>=2.12.2->monai[all]) (0.5.3)\n",
            "Requirement already satisfied: uvicorn<1 in /usr/local/lib/python3.12/dist-packages (from mlflow-skinny==3.4.0->mlflow>=2.12.2->monai[all]) (0.37.0)\n",
            "Requirement already satisfied: Mako in /usr/local/lib/python3.12/dist-packages (from alembic!=1.10.0,<2->mlflow>=2.12.2->monai[all]) (1.3.10)\n",
            "Requirement already satisfied: cffi>=1.12 in /usr/local/lib/python3.12/dist-packages (from cryptography<46,>=43.0.0->mlflow>=2.12.2->monai[all]) (2.0.0)\n",
            "Requirement already satisfied: google-auth~=2.0 in /usr/local/lib/python3.12/dist-packages (from databricks-sdk<1,>=0.20.0->mlflow-skinny==3.4.0->mlflow>=2.12.2->monai[all]) (2.38.0)\n",
            "Requirement already satisfied: starlette<0.49.0,>=0.40.0 in /usr/local/lib/python3.12/dist-packages (from fastapi<1->mlflow-skinny==3.4.0->mlflow>=2.12.2->monai[all]) (0.48.0)\n",
            "Requirement already satisfied: authlib>=1.5.2 in /usr/local/lib/python3.12/dist-packages (from fastmcp<3,>=2.0.0->mlflow>=2.12.2->monai[all]) (1.6.5)\n",
            "Requirement already satisfied: cyclopts>=3.0.0 in /usr/local/lib/python3.12/dist-packages (from fastmcp<3,>=2.0.0->mlflow>=2.12.2->monai[all]) (3.24.0)\n",
            "Requirement already satisfied: exceptiongroup>=1.2.2 in /usr/local/lib/python3.12/dist-packages (from fastmcp<3,>=2.0.0->mlflow>=2.12.2->monai[all]) (1.3.0)\n",
            "Requirement already satisfied: httpx>=0.28.1 in /usr/local/lib/python3.12/dist-packages (from fastmcp<3,>=2.0.0->mlflow>=2.12.2->monai[all]) (0.28.1)\n",
            "Requirement already satisfied: mcp<2.0.0,>=1.12.4 in /usr/local/lib/python3.12/dist-packages (from fastmcp<3,>=2.0.0->mlflow>=2.12.2->monai[all]) (1.16.0)\n",
            "Requirement already satisfied: openapi-core>=0.19.5 in /usr/local/lib/python3.12/dist-packages (from fastmcp<3,>=2.0.0->mlflow>=2.12.2->monai[all]) (0.19.5)\n",
            "Requirement already satisfied: openapi-pydantic>=0.5.1 in /usr/local/lib/python3.12/dist-packages (from fastmcp<3,>=2.0.0->mlflow>=2.12.2->monai[all]) (0.5.1)\n",
            "Requirement already satisfied: pyperclip>=1.9.0 in /usr/local/lib/python3.12/dist-packages (from fastmcp<3,>=2.0.0->mlflow>=2.12.2->monai[all]) (1.11.0)\n",
            "Requirement already satisfied: rich>=13.9.4 in /usr/local/lib/python3.12/dist-packages (from fastmcp<3,>=2.0.0->mlflow>=2.12.2->monai[all]) (13.9.4)\n",
            "Requirement already satisfied: blinker>=1.9.0 in /usr/local/lib/python3.12/dist-packages (from Flask<4->mlflow>=2.12.2->monai[all]) (1.9.0)\n",
            "Requirement already satisfied: itsdangerous>=2.2.0 in /usr/local/lib/python3.12/dist-packages (from Flask<4->mlflow>=2.12.2->monai[all]) (2.2.0)\n",
            "Requirement already satisfied: markupsafe>=2.1.1 in /usr/local/lib/python3.12/dist-packages (from Flask<4->mlflow>=2.12.2->monai[all]) (3.0.3)\n",
            "Requirement already satisfied: werkzeug>=3.1.0 in /usr/local/lib/python3.12/dist-packages (from Flask<4->mlflow>=2.12.2->monai[all]) (3.1.1)\n",
            "Requirement already satisfied: gitdb<5,>=4.0.1 in /usr/local/lib/python3.12/dist-packages (from gitpython<4,>=3.1.9->mlflow-skinny==3.4.0->mlflow>=2.12.2->monai[all]) (4.0.12)\n",
            "Requirement already satisfied: smmap<6,>=3.0.1 in /usr/local/lib/python3.12/dist-packages (from gitdb<5,>=4.0.1->gitpython<4,>=3.1.9->mlflow-skinny==3.4.0->mlflow>=2.12.2->monai[all]) (5.0.2)\n",
            "Requirement already satisfied: pyasn1-modules>=0.2.1 in /usr/local/lib/python3.12/dist-packages (from google-auth~=2.0->databricks-sdk<1,>=0.20.0->mlflow-skinny==3.4.0->mlflow>=2.12.2->monai[all]) (0.4.2)\n",
            "Requirement already satisfied: rsa<5,>=3.1.4 in /usr/local/lib/python3.12/dist-packages (from google-auth~=2.0->databricks-sdk<1,>=0.20.0->mlflow-skinny==3.4.0->mlflow>=2.12.2->monai[all]) (4.9.1)\n",
            "Requirement already satisfied: graphql-core<3.3,>=3.1 in /usr/local/lib/python3.12/dist-packages (from graphene<4->mlflow>=2.12.2->monai[all]) (3.2.6)\n",
            "Requirement already satisfied: graphql-relay<3.3,>=3.1 in /usr/local/lib/python3.12/dist-packages (from graphene<4->mlflow>=2.12.2->monai[all]) (3.2.0)\n",
            "Requirement already satisfied: zipp>=3.20 in /usr/local/lib/python3.12/dist-packages (from importlib_metadata!=4.7.0,<9,>=3.7.0->mlflow-skinny==3.4.0->mlflow>=2.12.2->monai[all]) (3.23.0)\n",
            "Requirement already satisfied: anyio>=4.5 in /usr/local/lib/python3.12/dist-packages (from mcp<2.0.0,>=1.12.4->fastmcp<3,>=2.0.0->mlflow>=2.12.2->monai[all]) (4.11.0)\n",
            "Requirement already satisfied: httpx-sse>=0.4 in /usr/local/lib/python3.12/dist-packages (from mcp<2.0.0,>=1.12.4->fastmcp<3,>=2.0.0->mlflow>=2.12.2->monai[all]) (0.4.2)\n",
            "Requirement already satisfied: pydantic-settings>=2.5.2 in /usr/local/lib/python3.12/dist-packages (from mcp<2.0.0,>=1.12.4->fastmcp<3,>=2.0.0->mlflow>=2.12.2->monai[all]) (2.11.0)\n",
            "Requirement already satisfied: python-multipart>=0.0.9 in /usr/local/lib/python3.12/dist-packages (from mcp<2.0.0,>=1.12.4->fastmcp<3,>=2.0.0->mlflow>=2.12.2->monai[all]) (0.0.20)\n",
            "Requirement already satisfied: sse-starlette>=1.6.1 in /usr/local/lib/python3.12/dist-packages (from mcp<2.0.0,>=1.12.4->fastmcp<3,>=2.0.0->mlflow>=2.12.2->monai[all]) (3.0.2)\n",
            "Requirement already satisfied: opentelemetry-semantic-conventions==0.58b0 in /usr/local/lib/python3.12/dist-packages (from opentelemetry-sdk<3,>=1.9.0->mlflow-skinny==3.4.0->mlflow>=2.12.2->monai[all]) (0.58b0)\n",
            "Requirement already satisfied: pytz>=2020.1 in /usr/local/lib/python3.12/dist-packages (from pandas->monai[all]) (2025.2)\n",
            "Requirement already satisfied: tzdata>=2022.7 in /usr/local/lib/python3.12/dist-packages (from pandas->monai[all]) (2025.2)\n",
            "Requirement already satisfied: annotated-types>=0.6.0 in /usr/local/lib/python3.12/dist-packages (from pydantic<3,>=1.10.8->mlflow-skinny==3.4.0->mlflow>=2.12.2->monai[all]) (0.7.0)\n",
            "Requirement already satisfied: pydantic-core==2.33.2 in /usr/local/lib/python3.12/dist-packages (from pydantic<3,>=1.10.8->mlflow-skinny==3.4.0->mlflow>=2.12.2->monai[all]) (2.33.2)\n",
            "Requirement already satisfied: typing-inspection>=0.4.0 in /usr/local/lib/python3.12/dist-packages (from pydantic<3,>=1.10.8->mlflow-skinny==3.4.0->mlflow>=2.12.2->monai[all]) (0.4.2)\n",
            "Requirement already satisfied: charset_normalizer<4,>=2 in /usr/local/lib/python3.12/dist-packages (from requests>=2.32.0->clearml>=1.10.0rc0->monai[all]) (3.4.3)\n",
            "Requirement already satisfied: idna<4,>=2.5 in /usr/local/lib/python3.12/dist-packages (from requests>=2.32.0->clearml>=1.10.0rc0->monai[all]) (3.10)\n",
            "Requirement already satisfied: certifi>=2017.4.17 in /usr/local/lib/python3.12/dist-packages (from requests>=2.32.0->clearml>=1.10.0rc0->monai[all]) (2025.10.5)\n",
            "Requirement already satisfied: pyasn1>=0.1.3 in /usr/local/lib/python3.12/dist-packages (from rsa<5,>=3.1.4->google-auth~=2.0->databricks-sdk<1,>=0.20.0->mlflow-skinny==3.4.0->mlflow>=2.12.2->monai[all]) (0.6.1)\n",
            "Requirement already satisfied: joblib>=1.2.0 in /usr/local/lib/python3.12/dist-packages (from scikit-learn<2->mlflow>=2.12.2->monai[all]) (1.5.2)\n",
            "Requirement already satisfied: threadpoolctl>=3.1.0 in /usr/local/lib/python3.12/dist-packages (from scikit-learn<2->mlflow>=2.12.2->monai[all]) (3.6.0)\n",
            "Requirement already satisfied: greenlet>=1 in /usr/local/lib/python3.12/dist-packages (from sqlalchemy<3,>=1.4.0->mlflow>=2.12.2->monai[all]) (3.2.4)\n",
            "Requirement already satisfied: sniffio>=1.1 in /usr/local/lib/python3.12/dist-packages (from anyio>=4.5->mcp<2.0.0,>=1.12.4->fastmcp<3,>=2.0.0->mlflow>=2.12.2->monai[all]) (1.3.1)\n",
            "Requirement already satisfied: h11>=0.8 in /usr/local/lib/python3.12/dist-packages (from uvicorn<1->mlflow-skinny==3.4.0->mlflow>=2.12.2->monai[all]) (0.16.0)\n",
            "Requirement already satisfied: pycparser in /usr/local/lib/python3.12/dist-packages (from cffi>=1.12->cryptography<46,>=43.0.0->mlflow>=2.12.2->monai[all]) (2.23)\n",
            "Requirement already satisfied: docstring-parser>=0.15 in /usr/local/lib/python3.12/dist-packages (from cyclopts>=3.0.0->fastmcp<3,>=2.0.0->mlflow>=2.12.2->monai[all]) (0.17.0)\n",
            "Requirement already satisfied: rich-rst<2.0.0,>=1.3.1 in /usr/local/lib/python3.12/dist-packages (from cyclopts>=3.0.0->fastmcp<3,>=2.0.0->mlflow>=2.12.2->monai[all]) (1.3.1)\n",
            "Requirement already satisfied: docutils in /usr/local/lib/python3.12/dist-packages (from rich-rst<2.0.0,>=1.3.1->cyclopts>=3.0.0->fastmcp<3,>=2.0.0->mlflow>=2.12.2->monai[all]) (0.21.2)\n",
            "Requirement already satisfied: httpcore==1.* in /usr/local/lib/python3.12/dist-packages (from httpx>=0.28.1->fastmcp<3,>=2.0.0->mlflow>=2.12.2->monai[all]) (1.0.9)\n",
            "Requirement already satisfied: ml_dtypes>=0.5.0 in /usr/local/lib/python3.12/dist-packages (from onnx>=1.13.0->monai[all]) (0.5.3)\n",
            "Requirement already satisfied: isodate in /usr/local/lib/python3.12/dist-packages (from openapi-core>=0.19.5->fastmcp<3,>=2.0.0->mlflow>=2.12.2->monai[all]) (0.7.2)\n",
            "Requirement already satisfied: jsonschema-path<0.4.0,>=0.3.1 in /usr/local/lib/python3.12/dist-packages (from openapi-core>=0.19.5->fastmcp<3,>=2.0.0->mlflow>=2.12.2->monai[all]) (0.3.4)\n",
            "Requirement already satisfied: more-itertools in /usr/local/lib/python3.12/dist-packages (from openapi-core>=0.19.5->fastmcp<3,>=2.0.0->mlflow>=2.12.2->monai[all]) (10.8.0)\n",
            "Requirement already satisfied: openapi-schema-validator<0.7.0,>=0.6.0 in /usr/local/lib/python3.12/dist-packages (from openapi-core>=0.19.5->fastmcp<3,>=2.0.0->mlflow>=2.12.2->monai[all]) (0.6.3)\n",
            "Requirement already satisfied: openapi-spec-validator<0.8.0,>=0.7.1 in /usr/local/lib/python3.12/dist-packages (from openapi-core>=0.19.5->fastmcp<3,>=2.0.0->mlflow>=2.12.2->monai[all]) (0.7.2)\n",
            "Requirement already satisfied: parse in /usr/local/lib/python3.12/dist-packages (from openapi-core>=0.19.5->fastmcp<3,>=2.0.0->mlflow>=2.12.2->monai[all]) (1.20.2)\n",
            "Requirement already satisfied: pathable<0.5.0,>=0.4.1 in /usr/local/lib/python3.12/dist-packages (from jsonschema-path<0.4.0,>=0.3.1->openapi-core>=0.19.5->fastmcp<3,>=2.0.0->mlflow>=2.12.2->monai[all]) (0.4.4)\n",
            "Requirement already satisfied: rfc3339-validator in /usr/local/lib/python3.12/dist-packages (from openapi-schema-validator<0.7.0,>=0.6.0->openapi-core>=0.19.5->fastmcp<3,>=2.0.0->mlflow>=2.12.2->monai[all]) (0.1.4)\n",
            "Requirement already satisfied: lazy-object-proxy<2.0.0,>=1.7.1 in /usr/local/lib/python3.12/dist-packages (from openapi-spec-validator<0.8.0,>=0.7.1->openapi-core>=0.19.5->fastmcp<3,>=2.0.0->mlflow>=2.12.2->monai[all]) (1.12.0)\n",
            "Requirement already satisfied: email-validator>=2.0.0 in /usr/local/lib/python3.12/dist-packages (from pydantic[email]>=2.11.7->fastmcp<3,>=2.0.0->mlflow>=2.12.2->monai[all]) (2.3.0)\n",
            "Requirement already satisfied: dnspython>=2.0.0 in /usr/local/lib/python3.12/dist-packages (from email-validator>=2.0.0->pydantic[email]>=2.11.7->fastmcp<3,>=2.0.0->mlflow>=2.12.2->monai[all]) (2.8.0)\n",
            "Requirement already satisfied: markdown-it-py>=2.2.0 in /usr/local/lib/python3.12/dist-packages (from rich>=13.9.4->fastmcp<3,>=2.0.0->mlflow>=2.12.2->monai[all]) (4.0.0)\n",
            "Requirement already satisfied: pygments<3.0.0,>=2.13.0 in /usr/local/lib/python3.12/dist-packages (from rich>=13.9.4->fastmcp<3,>=2.0.0->mlflow>=2.12.2->monai[all]) (2.19.2)\n",
            "Requirement already satisfied: mdurl~=0.1 in /usr/local/lib/python3.12/dist-packages (from markdown-it-py>=2.2.0->rich>=13.9.4->fastmcp<3,>=2.0.0->mlflow>=2.12.2->monai[all]) (0.1.2)\n",
            "Requirement already satisfied: imageio!=2.35.0,>=2.33 in /usr/local/lib/python3.12/dist-packages (from scikit-image>=0.14.2->monai[all]) (2.37.0)\n",
            "Requirement already satisfied: lazy-loader>=0.4 in /usr/local/lib/python3.12/dist-packages (from scikit-image>=0.14.2->monai[all]) (0.4)\n",
            "Requirement already satisfied: mpmath<1.4,>=1.1.0 in /usr/local/lib/python3.12/dist-packages (from sympy>=1.13.3->torch>=2.4.1->monai[all]) (1.3.0)\n",
            "Requirement already satisfied: soupsieve>1.2 in /usr/local/lib/python3.12/dist-packages (from beautifulsoup4->gdown>=4.7.3->monai[all]) (2.8)\n",
            "Requirement already satisfied: hf-xet<2.0.0,>=1.1.3 in /usr/local/lib/python3.12/dist-packages (from huggingface-hub->monai[all]) (1.1.10)\n",
            "Requirement already satisfied: astor in /usr/local/lib/python3.12/dist-packages (from nni->monai[all]) (0.8.1)\n",
            "Requirement already satisfied: colorama in /usr/local/lib/python3.12/dist-packages (from nni->monai[all]) (0.4.6)\n",
            "  Using cached filelock-3.11.0-py3-none-any.whl.metadata (2.5 kB)\n",
            "Requirement already satisfied: json-tricks>=3.15.5 in /usr/local/lib/python3.12/dist-packages (from nni->monai[all]) (3.17.3)\n",
            "Requirement already satisfied: prettytable in /usr/local/lib/python3.12/dist-packages (from nni->monai[all]) (3.16.0)\n",
            "Requirement already satisfied: PythonWebHDFS in /usr/local/lib/python3.12/dist-packages (from nni->monai[all]) (0.2.3)\n",
            "Requirement already satisfied: responses in /usr/local/lib/python3.12/dist-packages (from nni->monai[all]) (0.25.8)\n",
            "Requirement already satisfied: schema in /usr/local/lib/python3.12/dist-packages (from nni->monai[all]) (0.7.8)\n",
            "Requirement already satisfied: typeguard<4.1.3,>=3.0.0 in /usr/local/lib/python3.12/dist-packages (from nni->monai[all]) (4.1.2)\n",
            "Requirement already satisfied: websockets>=10.1 in /usr/local/lib/python3.12/dist-packages (from nni->monai[all]) (15.0.1)\n",
            "Requirement already satisfied: colorlog in /usr/local/lib/python3.12/dist-packages (from optuna->monai[all]) (6.9.0)\n",
            "Requirement already satisfied: wcwidth in /usr/local/lib/python3.12/dist-packages (from prettytable->nni->monai[all]) (0.2.14)\n",
            "Requirement already satisfied: simplejson in /usr/local/lib/python3.12/dist-packages (from PythonWebHDFS->nni->monai[all]) (3.20.2)\n",
            "Requirement already satisfied: PySocks!=1.5.7,>=1.5.6 in /usr/local/lib/python3.12/dist-packages (from requests[socks]->gdown>=4.7.3->monai[all]) (1.7.1)\n",
            "Requirement already satisfied: absl-py>=0.4 in /usr/local/lib/python3.12/dist-packages (from tensorboard->monai[all]) (1.4.0)\n",
            "Requirement already satisfied: grpcio>=1.48.2 in /usr/local/lib/python3.12/dist-packages (from tensorboard->monai[all]) (1.75.1)\n",
            "Requirement already satisfied: markdown>=2.6.8 in /usr/local/lib/python3.12/dist-packages (from tensorboard->monai[all]) (3.9)\n",
            "Requirement already satisfied: tensorboard-data-server<0.8.0,>=0.7.0 in /usr/local/lib/python3.12/dist-packages (from tensorboard->monai[all]) (0.7.2)\n",
            "Requirement already satisfied: deprecated>=1.2 in /usr/local/lib/python3.12/dist-packages (from torchio->monai[all]) (1.2.18)\n",
            "Requirement already satisfied: humanize>=0.1 in /usr/local/lib/python3.12/dist-packages (from torchio->monai[all]) (4.13.0)\n",
            "Requirement already satisfied: simpleitk!=2.0.*,!=2.1.1.1,>=1.3 in /usr/local/lib/python3.12/dist-packages (from torchio->monai[all]) (2.5.2)\n",
            "Requirement already satisfied: typer>=0.1 in /usr/local/lib/python3.12/dist-packages (from torchio->monai[all]) (0.19.2)\n",
            "Requirement already satisfied: wrapt<2,>=1.10 in /usr/local/lib/python3.12/dist-packages (from deprecated>=1.2->torchio->monai[all]) (1.17.3)\n",
            "Requirement already satisfied: shellingham>=1.3.0 in /usr/local/lib/python3.12/dist-packages (from typer>=0.1->torchio->monai[all]) (1.5.4)\n",
            "Requirement already satisfied: donfig>=0.8 in /usr/local/lib/python3.12/dist-packages (from zarr->monai[all]) (0.8.1.post1)\n",
            "Requirement already satisfied: numcodecs>=0.14 in /usr/local/lib/python3.12/dist-packages (from numcodecs[crc32c]>=0.14->zarr->monai[all]) (0.16.3)\n",
            "Requirement already satisfied: crc32c>=2.7 in /usr/local/lib/python3.12/dist-packages (from numcodecs[crc32c]>=0.14->zarr->monai[all]) (2.7.1.post0)\n",
            "Using cached nni-3.0-py3-none-manylinux1_x86_64.whl (61.4 MB)\n",
            "Using cached filelock-3.11.0-py3-none-any.whl (10.0 kB)\n",
            "Installing collected packages: filelock, nni\n",
            "\u001b[2K   \u001b[90m━━━━━━━━━━━━━━━━━━━━━━━━━━━━━━━━━━━━━━━━\u001b[0m \u001b[32m2/2\u001b[0m [nni]\n",
            "\u001b[1A\u001b[2KSuccessfully installed filelock-3.11.0 nni-3.0\n",
            "Name: monai\n",
            "Version: 1.5.1\n",
            "Summary: AI Toolkit for Healthcare Imaging\n",
            "Home-page: https://monai.io/\n",
            "Author: MONAI Consortium\n",
            "Author-email: monai.contact@gmail.com\n",
            "License: Apache License 2.0\n",
            "Location: /usr/local/lib/python3.12/dist-packages\n",
            "Requires: numpy, torch\n",
            "Required-by: \n",
            "---\n",
            "Name: filelock\n",
            "Version: 3.11.0\n",
            "Summary: A platform independent file lock.\n",
            "Home-page: https://github.com/tox-dev/py-filelock\n",
            "Author: \n",
            "Author-email: \n",
            "License: \n",
            "Location: /usr/local/lib/python3.12/dist-packages\n",
            "Requires: \n",
            "Required-by: blobfile, datasets, diffusers, gdown, huggingface-hub, nni, torch, transformers\n",
            "---\n",
            "Name: fire\n",
            "Version: 0.7.1\n",
            "Summary: A library for automatically generating command line interfaces.\n",
            "Home-page: https://github.com/google/python-fire\n",
            "Author: \n",
            "Author-email: David Bieber <david810+fire@gmail.com>\n",
            "License: Apache-2.0\n",
            "Location: /usr/local/lib/python3.12/dist-packages\n",
            "Requires: termcolor\n",
            "Required-by: \n"
          ]
        }
      ]
    },
    {
      "cell_type": "code",
      "source": [],
      "metadata": {
        "id": "nC3ls3gM2GK1",
        "outputId": "8ac56f0b-67d2-4fd5-f1d5-ad0ee9daf838",
        "colab": {
          "base_uri": "https://localhost:8080/"
        }
      },
      "id": "nC3ls3gM2GK1",
      "execution_count": 10,
      "outputs": [
        {
          "output_type": "stream",
          "name": "stdout",
          "text": [
            "2025-10-14 08:32:12.268535: E external/local_xla/xla/stream_executor/cuda/cuda_fft.cc:467] Unable to register cuFFT factory: Attempting to register factory for plugin cuFFT when one has already been registered\n",
            "WARNING: All log messages before absl::InitializeLog() is called are written to STDERR\n",
            "E0000 00:00:1760430732.695663   32199 cuda_dnn.cc:8579] Unable to register cuDNN factory: Attempting to register factory for plugin cuDNN when one has already been registered\n",
            "E0000 00:00:1760430732.808702   32199 cuda_blas.cc:1407] Unable to register cuBLAS factory: Attempting to register factory for plugin cuBLAS when one has already been registered\n",
            "W0000 00:00:1760430733.679261   32199 computation_placer.cc:177] computation placer already registered. Please check linkage and avoid linking the same target more than once.\n",
            "W0000 00:00:1760430733.679356   32199 computation_placer.cc:177] computation placer already registered. Please check linkage and avoid linking the same target more than once.\n",
            "W0000 00:00:1760430733.679362   32199 computation_placer.cc:177] computation placer already registered. Please check linkage and avoid linking the same target more than once.\n",
            "W0000 00:00:1760430733.679366   32199 computation_placer.cc:177] computation placer already registered. Please check linkage and avoid linking the same target more than once.\n",
            "2025-10-14 08:32:13.763085: I tensorflow/core/platform/cpu_feature_guard.cc:210] This TensorFlow binary is optimized to use available CPU instructions in performance-critical operations.\n",
            "To enable the following instructions: AVX2 FMA, in other operations, rebuild TensorFlow with the appropriate compiler flags.\n",
            "Traceback (most recent call last):\n",
            "  File \"<frozen runpy>\", line 198, in _run_module_as_main\n",
            "  File \"<frozen runpy>\", line 88, in _run_code\n",
            "  File \"/usr/local/lib/python3.12/dist-packages/monai/apps/auto3dseg/__main__.py\", line 24, in <module>\n",
            "    fire.Fire(\n",
            "    ^^^^^^^^^\n",
            "  File \"/usr/local/lib/python3.12/dist-packages/monai/utils/module.py\", line 420, in __getattr__\n",
            "    raise self._exception\n",
            "  File \"/usr/local/lib/python3.12/dist-packages/monai/utils/module.py\", line 378, in optional_import\n",
            "    pkg = __import__(module)  # top level module\n",
            "          ^^^^^^^^^^^^^^^^^^\n",
            "monai.utils.module.OptionalImportError: import fire (No module named 'fire').\n",
            "\n",
            "For details about installing the optional dependencies, please visit:\n",
            "    https://docs.monai.io/en/latest/installation.html#installing-the-recommended-dependencies\n"
          ]
        }
      ]
    },
    {
      "cell_type": "code",
      "source": [
        "# === 5. Run Auto3DSeg training + inference ===\n",
        "# This will run all default algorithms (SegResNet, DiNTS, SwinUNETR) in 5-fold CV and ensemble\n",
        "!python -m monai.apps.auto3dseg AutoRunner run --input \"{os.path.join(DATA_ROOT, 'input.yaml')}\"\n"
      ],
      "metadata": {
        "id": "YhuHC7-f4vAb",
        "outputId": "254ed15d-00c3-4245-f505-5e9bb2fb02c6",
        "colab": {
          "base_uri": "https://localhost:8080/"
        }
      },
      "id": "YhuHC7-f4vAb",
      "execution_count": 20,
      "outputs": [
        {
          "output_type": "stream",
          "name": "stdout",
          "text": [
            "2025-10-14 08:44:49.263103: E external/local_xla/xla/stream_executor/cuda/cuda_fft.cc:467] Unable to register cuFFT factory: Attempting to register factory for plugin cuFFT when one has already been registered\n",
            "WARNING: All log messages before absl::InitializeLog() is called are written to STDERR\n",
            "E0000 00:00:1760431489.288001   35586 cuda_dnn.cc:8579] Unable to register cuDNN factory: Attempting to register factory for plugin cuDNN when one has already been registered\n",
            "E0000 00:00:1760431489.295287   35586 cuda_blas.cc:1407] Unable to register cuBLAS factory: Attempting to register factory for plugin cuBLAS when one has already been registered\n",
            "W0000 00:00:1760431489.314092   35586 computation_placer.cc:177] computation placer already registered. Please check linkage and avoid linking the same target more than once.\n",
            "W0000 00:00:1760431489.314144   35586 computation_placer.cc:177] computation placer already registered. Please check linkage and avoid linking the same target more than once.\n",
            "W0000 00:00:1760431489.314151   35586 computation_placer.cc:177] computation placer already registered. Please check linkage and avoid linking the same target more than once.\n",
            "W0000 00:00:1760431489.314155   35586 computation_placer.cc:177] computation placer already registered. Please check linkage and avoid linking the same target more than once.\n",
            "2025-10-14 08:44:49.319803: I tensorflow/core/platform/cpu_feature_guard.cc:210] This TensorFlow binary is optimized to use available CPU instructions in performance-critical operations.\n",
            "To enable the following instructions: AVX2 FMA, in other operations, rebuild TensorFlow with the appropriate compiler flags.\n",
            "2025-10-14 08:45:02,018 - INFO - Loading input config /content/kits23/dataset/input.yaml\n",
            "2025-10-14 08:45:02,019 - INFO - AutoRunner using work directory /content/work_dir\n",
            "Traceback (most recent call last):\n",
            "  File \"<frozen runpy>\", line 198, in _run_module_as_main\n",
            "  File \"<frozen runpy>\", line 88, in _run_code\n",
            "  File \"/usr/local/lib/python3.12/dist-packages/monai/apps/auto3dseg/__main__.py\", line 24, in <module>\n",
            "    fire.Fire(\n",
            "  File \"/usr/local/lib/python3.12/dist-packages/fire/core.py\", line 135, in Fire\n",
            "    component_trace = _Fire(component, args, parsed_flag_args, context, name)\n",
            "                      ^^^^^^^^^^^^^^^^^^^^^^^^^^^^^^^^^^^^^^^^^^^^^^^^^^^^^^^\n",
            "  File \"/usr/local/lib/python3.12/dist-packages/fire/core.py\", line 468, in _Fire\n",
            "    component, remaining_args = _CallAndUpdateTrace(\n",
            "                                ^^^^^^^^^^^^^^^^^^^^\n",
            "  File \"/usr/local/lib/python3.12/dist-packages/fire/core.py\", line 684, in _CallAndUpdateTrace\n",
            "    component = fn(*varargs, **kwargs)\n",
            "                ^^^^^^^^^^^^^^^^^^^^^^\n",
            "  File \"/usr/local/lib/python3.12/dist-packages/monai/apps/auto3dseg/auto_runner.py\", line 298, in __init__\n",
            "    raise ValueError(f\"Datalist file is not found {self.data_src_cfg['datalist']}\")\n",
            "ValueError: Datalist file is not found dataset.json\n"
          ]
        }
      ]
    },
    {
      "cell_type": "code",
      "source": [
        "# === 6. Postprocessing the predictions ===\n",
        "# After inference, the predictions are placed in a directory under the Auto3DSeg workdir (e.g. `ensemble_output` or `predictions`)\n",
        "PRED_FOLDER = \"/content/kits23/work_dir/ensemble_output\"  # example — adjust to actual path\n",
        "PRED_PP = \"/content/kits23/pred_pp\"\n",
        "os.makedirs(PRED_PP, exist_ok=True)\n",
        "\n",
        "for p in sorted(glob.glob(os.path.join(PRED_FOLDER, \"*.nii*\")) + glob.glob(os.path.join(PRED_FOLDER, \"*.nii\"))):\n",
        "    pred_nii = nib.load(p)\n",
        "    pred = pred_nii.get_fdata()\n",
        "    # pred shape may be (C, Z, Y, X) if multi-channel\n",
        "    # threshold to binary masks\n",
        "    masks = (pred > 0.5).astype(np.uint8)\n",
        "\n",
        "    # remove small components in merged foreground\n",
        "    merged = np.any(masks, axis=0).astype(np.uint8)\n",
        "    labeled_fg, ncomp = ndimage.label(merged)\n",
        "    sizes = ndimage.sum(merged, labeled_fg, range(1, ncomp + 1))\n",
        "    keep_mask = np.zeros_like(merged)\n",
        "    for idx, s in enumerate(sizes, start=1):\n",
        "        if s >= 100:\n",
        "            keep_mask[labeled_fg == idx] = 1\n",
        "    masks_clean = masks * keep_mask\n",
        "\n",
        "    # tumor/cyst rim correction\n",
        "    # Example: if cyst channel (index maybe 1) surrounds tumor channel (index 2), remove that rim.\n",
        "    # This is task-specific; here is a naive approach:\n",
        "    # Assume channel 2 is tumor, channel 1 is mass (cyst + tumor), etc. You should verify mapping.\n",
        "    # e.g., remove pixels in cyst class that are one-voxel neighbors of tumor class\n",
        "    tumor_mask = masks_clean[2]\n",
        "    # dilate tumor and subtract overlap from cyst mask\n",
        "    struct = np.ones((3, 3, 3))\n",
        "    dil = ndimage.binary_dilation(tumor_mask, structure=struct)\n",
        "    cyst_mask = masks_clean[1]\n",
        "    cyst_mask[dil & (cyst_mask == 1)] = 0\n",
        "    masks_clean[1] = cyst_mask\n",
        "\n",
        "    # Save cleaned prediction (multi-channel) or merge into integer-label file\n",
        "    out_affine = pred_nii.affine\n",
        "    # e.g. convert multi-channel masks_clean to a single integer map:\n",
        "    # label 1: kidney_and_mass, label 2: mass, label 3: tumor (or whichever your submission expects)\n",
        "    # simple merging: prioritize tumor, then mass, then kidney\n",
        "    final = np.zeros_like(merged, dtype=np.uint8)\n",
        "    # e.g. assign tumor\n",
        "    final[tumor_mask == 1] = 3\n",
        "    final[cyst_mask == 1] = 2\n",
        "    # kidney_and_mass = background + kidney region mask\n",
        "    # final[merged == 1] = 1  # or whatever your mapping\n",
        "    # (you’ll need to adjust mapping to match KiTS expected submission format)\n",
        "\n",
        "    nib.save(nib.Nifti1Image(final, out_affine), os.path.join(PRED_PP, os.path.basename(p)))\n",
        "\n",
        "print(\"Postprocessing done, saved to\", PRED_PP)\n",
        "\n",
        "# === 7. (Optional) Evaluate using KiTS metric script ===\n",
        "# If you have the official KiTS23 metric tool installed/available:\n",
        "# !python kits23_compute_metrics {PRED_PP} -num_processes 8"
      ],
      "metadata": {
        "id": "iNpn0x5v2Wfi"
      },
      "id": "iNpn0x5v2Wfi",
      "execution_count": null,
      "outputs": []
    }
  ],
  "metadata": {
    "kernelspec": {
      "display_name": "Python 3",
      "language": "python",
      "name": "python3"
    },
    "language_info": {
      "name": "python",
      "version": "3.10.11"
    },
    "colab": {
      "provenance": []
    }
  },
  "nbformat": 4,
  "nbformat_minor": 5
}