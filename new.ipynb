{
 "cells": [
  {
   "cell_type": "code",
   "execution_count": null,
   "id": "09789234",
   "metadata": {},
   "outputs": [],
   "source": [
    "!sudo apt-get install python3.10 python3.10-dev python3.10-distutils\n",
    "!sudo update-alternatives --install /usr/bin/python3 python3 /usr/bin/python3.10 1"
   ]
  },
  {
   "cell_type": "code",
   "execution_count": null,
   "id": "095b5457",
   "metadata": {},
   "outputs": [],
   "source": [
    "!git clone https://github.com/neheller/kits23\n",
    "%cd kits23\n",
    "!pip3 install -e ."
   ]
  },
  {
   "cell_type": "code",
   "execution_count": null,
   "id": "048b5a76",
   "metadata": {},
   "outputs": [],
   "source": [
    "!kits23_download_data"
   ]
  },
  {
   "cell_type": "code",
   "execution_count": null,
   "id": "7beceec5",
   "metadata": {},
   "outputs": [],
   "source": [
    "!pip install monai==1.3.0 nibabel torch torchvision einops transformers"
   ]
  },
  {
   "cell_type": "code",
   "execution_count": null,
   "id": "d6a29af5",
   "metadata": {},
   "outputs": [],
   "source": [
    "import os, glob\n",
    "from monai.data import Dataset, DataLoader\n",
    "from monai.transforms import (\n",
    "    LoadImaged, EnsureChannelFirstd, Spacingd, ScaleIntensityRanged,\n",
    "    CropForegroundd, Orientationd, ToTensord, Compose\n",
    ")\n",
    "from sklearn.model_selection import train_test_split\n",
    "\n",
    "root = \"/content/kits23/dataset\"\n",
    "cases = sorted(glob.glob(os.path.join(root, \"case_*\")))\n",
    "\n",
    "data_dicts = [{\"image\": os.path.join(c, \"imaging.nii.gz\"), \"label\": os.path.join(c, \"segmentation.nii.gz\")} for c in cases]\n",
    "train_files, val_files = train_test_split(data_dicts, test_size=0.2, random_state=42)\n",
    "\n",
    "train_transforms = Compose([\n",
    "    LoadImaged(keys=[\"image\", \"label\"]),\n",
    "    EnsureChannelFirstd(keys=[\"image\", \"label\"]),\n",
    "    Orientationd(keys=[\"image\", \"label\"], axcodes=\"RAS\"),\n",
    "    Spacingd(keys=[\"image\", \"label\"], pixdim=(1.5, 1.5, 2.0), mode=(\"bilinear\", \"nearest\")),\n",
    "    ScaleIntensityRanged(keys=[\"image\"], a_min=-200, a_max=200, b_min=0.0, b_max=1.0, clip=True),\n",
    "    CropForegroundd(keys=[\"image\", \"label\"], source_key=\"image\"),\n",
    "    ToTensord(keys=[\"image\", \"label\"])\n",
    "])\n",
    "\n",
    "val_transforms = train_transforms\n",
    "\n",
    "train_ds = Dataset(data=train_files, transform=train_transforms)\n",
    "val_ds = Dataset(data=val_files, transform=val_transforms)\n",
    "\n",
    "train_loader = DataLoader(train_ds, batch_size=1, shuffle=True, num_workers=2)\n",
    "val_loader = DataLoader(val_ds, batch_size=1, num_workers=2)"
   ]
  }
 ],
 "metadata": {
  "language_info": {
   "name": "python"
  }
 },
 "nbformat": 4,
 "nbformat_minor": 5
}
