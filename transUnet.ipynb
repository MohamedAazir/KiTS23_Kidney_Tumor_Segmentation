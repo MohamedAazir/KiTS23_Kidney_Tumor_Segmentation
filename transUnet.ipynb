{
  "cells": [
    {
      "cell_type": "code",
      "source": [
        "from google.colab import drive\n",
        "drive.mount('/content/drive')"
      ],
      "metadata": {
        "id": "fPHhWc0yFj3L",
        "outputId": "c78dfba3-837d-4a71-a10d-b2c4846142e2",
        "colab": {
          "base_uri": "https://localhost:8080/"
        }
      },
      "id": "fPHhWc0yFj3L",
      "execution_count": 3,
      "outputs": [
        {
          "output_type": "stream",
          "name": "stdout",
          "text": [
            "Mounted at /content/drive\n"
          ]
        }
      ]
    },
    {
      "cell_type": "code",
      "source": [
        "pip install rarfile"
      ],
      "metadata": {
        "id": "1P95ZGoqGrW1",
        "outputId": "7146bb1c-d508-42e8-ba5b-cdde277db8be",
        "colab": {
          "base_uri": "https://localhost:8080/"
        }
      },
      "id": "1P95ZGoqGrW1",
      "execution_count": 6,
      "outputs": [
        {
          "output_type": "stream",
          "name": "stdout",
          "text": [
            "Collecting rarfile\n",
            "  Downloading rarfile-4.2-py3-none-any.whl.metadata (4.4 kB)\n",
            "Downloading rarfile-4.2-py3-none-any.whl (29 kB)\n",
            "Installing collected packages: rarfile\n",
            "Successfully installed rarfile-4.2\n"
          ]
        }
      ]
    },
    {
      "cell_type": "code",
      "source": [
        "import rarfile\n",
        "import os\n",
        "\n",
        "rar_path = \"/content/drive/MyDrive/kits23/pretrained_models.rar\"\n",
        "extract_path = \"/content/extracted_models\"\n",
        "os.makedirs(extract_path, exist_ok=True)\n",
        "\n",
        "# Make sure unrar is installed\n",
        "# !apt-get install unrar -y   # Uncomment if running on Colab/Linux\n",
        "\n",
        "rf = rarfile.RarFile(rar_path)\n",
        "rf.extractall(extract_path)\n",
        "rf.close()\n",
        "\n",
        "print(\"Extracted RAR to:\", extract_path)\n"
      ],
      "metadata": {
        "id": "H7Ti1eErFmdy",
        "outputId": "37a91dbf-ff16-4b61-e6c5-162aedbfec02",
        "colab": {
          "base_uri": "https://localhost:8080/"
        }
      },
      "id": "H7Ti1eErFmdy",
      "execution_count": 7,
      "outputs": [
        {
          "output_type": "stream",
          "name": "stdout",
          "text": [
            "Extracted RAR to: /content/extracted_models\n"
          ]
        }
      ]
    },
    {
      "cell_type": "code",
      "source": [],
      "metadata": {
        "id": "GtxcvjyTGZ0G"
      },
      "id": "GtxcvjyTGZ0G",
      "execution_count": null,
      "outputs": []
    }
  ],
  "metadata": {
    "language_info": {
      "name": "python"
    },
    "colab": {
      "provenance": [],
      "gpuType": "T4"
    },
    "kernelspec": {
      "name": "python3",
      "display_name": "Python 3"
    },
    "accelerator": "GPU"
  },
  "nbformat": 4,
  "nbformat_minor": 5
}