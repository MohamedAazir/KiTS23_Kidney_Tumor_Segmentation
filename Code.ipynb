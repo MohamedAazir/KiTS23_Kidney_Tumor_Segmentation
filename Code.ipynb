{
  "cells": [
    {
      "cell_type": "markdown",
      "metadata": {
        "id": "view-in-github",
        "colab_type": "text"
      },
      "source": [
        "<a href=\"https://colab.research.google.com/github/MohamedAazir/KiTS23_Kidney_Tumor_Segmentation/blob/Aazir/Code.ipynb\" target=\"_parent\"><img src=\"https://colab.research.google.com/assets/colab-badge.svg\" alt=\"Open In Colab\"/></a>"
      ]
    },
    {
      "cell_type": "code",
      "execution_count": null,
      "id": "00a406e4",
      "metadata": {
        "id": "00a406e4"
      },
      "outputs": [],
      "source": [
        "#Aazir"
      ]
    },
    {
      "cell_type": "code",
      "source": [
        "from google.colab import drive\n",
        "drive.mount('/content/drive')"
      ],
      "metadata": {
        "id": "Bm178bOpXBJR",
        "outputId": "08f21e84-2fba-4480-ba2f-a54389186c5f",
        "colab": {
          "base_uri": "https://localhost:8080/"
        }
      },
      "id": "Bm178bOpXBJR",
      "execution_count": 1,
      "outputs": [
        {
          "output_type": "stream",
          "name": "stdout",
          "text": [
            "Mounted at /content/drive\n"
          ]
        }
      ]
    },
    {
      "cell_type": "code",
      "execution_count": null,
      "id": "9c7a0eed",
      "metadata": {
        "id": "9c7a0eed",
        "outputId": "b1d37623-1705-48e9-edb0-62f8ab510133",
        "colab": {
          "base_uri": "https://localhost:8080/"
        }
      },
      "outputs": [
        {
          "output_type": "stream",
          "name": "stdout",
          "text": [
            "\u001b[2K   \u001b[90m━━━━━━━━━━━━━━━━━━━━━━━━━━━━━━━━━━━━━━━━\u001b[0m \u001b[32m2.7/2.7 MB\u001b[0m \u001b[31m24.6 MB/s\u001b[0m eta \u001b[36m0:00:00\u001b[0m\n",
            "\u001b[2K   \u001b[90m━━━━━━━━━━━━━━━━━━━━━━━━━━━━━━━━━━━━━━━━\u001b[0m \u001b[32m52.6/52.6 MB\u001b[0m \u001b[31m16.4 MB/s\u001b[0m eta \u001b[36m0:00:00\u001b[0m\n",
            "\u001b[?25h"
          ]
        }
      ],
      "source": [
        "# 1. Restart runtime after installing if prompted by Colab\n",
        "!pip install -q \"torch\" torchvision torchaudio --index-url https://download.pytorch.org/whl/cu118\n",
        "!pip install -q monai\n",
        "!pip install -q nibabel scikit-image pandas tqdm SimpleITK"
      ]
    },
    {
      "cell_type": "code",
      "source": [
        "import os, json, glob\n",
        "\n",
        "root = \"/content/drive/MyDrive/kits23/dataset\"   # your root\n",
        "\n",
        "case_folders = sorted([d for d in glob.glob(os.path.join(root, \"case_*\")) if os.path.isdir(d)])\n",
        "\n",
        "datalist = {\"training\": []}\n",
        "\n",
        "for case_path in case_folders:\n",
        "    case_id = os.path.basename(case_path)\n",
        "    # main label for the case\n",
        "    label_path = os.path.join(case_path, \"segmentation.nii.gz\")\n",
        "\n",
        "    # Adjusted path — go inside the 'instances' subfolder\n",
        "    instance_folder = os.path.join(case_path, \"instances\")\n",
        "\n",
        "    # Get all NIfTI files inside that folder\n",
        "    image_paths = sorted(glob.glob(os.path.join(instance_folder, \"*.nii.gz\")))\n",
        "\n",
        "    # print(f\"Case: {os.path.basename(case_path)}\")\n",
        "    # print(\"Found images:\")\n",
        "    # for img in image_paths:\n",
        "    #     print(\"  \", img)\n",
        "\n",
        "    datalist[\"training\"].append({\n",
        "        \"image\": os.path.relpath(image_path, start=root),\n",
        "        \"label\": os.path.relpath(label_path, start=root),\n",
        "        \"image_filename\": os.path.basename(image_path)\n",
        "    })\n",
        "\n",
        "dataset_json = {\n",
        "    \"name\": \"KiTS23_custom\",\n",
        "    \"description\": \"KiTS23 formatted dataset from per-case folders\",\n",
        "    \"reference\": \"\",\n",
        "    \"licence\": \"\",\n",
        "    \"release\": \"0.0\",\n",
        "    \"modality\": {\"0\": \"CT\"},\n",
        "    \"labels\": {\"0\": \"background\", \"1\": \"kidney_and_mass\", \"2\": \"mass\", \"3\": \"tumor\"},\n",
        "    \"numTraining\": len(datalist[\"training\"]),\n",
        "    \"training\": datalist[\"training\"],\n",
        "    \"test\": []\n",
        "}\n",
        "\n",
        "with open(os.path.join(root, \"dataset.json\"), \"w\") as f:\n",
        "    json.dump(dataset_json, f, indent=2)\n",
        "\n",
        "print(\"dataset.json created with\", len(datalist[\"training\"]), \"cases\")\n"
      ],
      "metadata": {
        "id": "jkGF8CcivnlJ",
        "outputId": "cb969c79-c6d8-4012-9db4-53b6f9707513",
        "colab": {
          "base_uri": "https://localhost:8080/"
        }
      },
      "id": "jkGF8CcivnlJ",
      "execution_count": 6,
      "outputs": [
        {
          "output_type": "stream",
          "name": "stdout",
          "text": [
            "dataset.json created with 489 cases\n"
          ]
        }
      ]
    },
    {
      "cell_type": "code",
      "source": [
        "import os\n",
        "import nibabel as nib\n",
        "import matplotlib.pyplot as plt\n",
        "import numpy as np\n",
        "\n",
        "# Path to your file (update this!)\n",
        "image_path = r\"/content/drive/MyDrive/kits23/dataset/case_00001/segmentation.nii.gz\"\n",
        "\n",
        "# --- Load the NIfTI file ---\n",
        "img = nib.load(image_path)\n",
        "data = img.get_fdata()\n",
        "\n",
        "print(\"Shape:\", data.shape)\n",
        "print(\"Data type:\", data.dtype)\n",
        "print(\"Affine:\\n\", img.affine)\n",
        "\n",
        "# --- Visualize a few slices ---\n",
        "# pick middle slices along each axis\n",
        "slices = [data.shape[0] // 2, data.shape[1] // 2, data.shape[2] // 2]\n",
        "\n",
        "fig, axes = plt.subplots(1, 3, figsize=(12, 4))\n",
        "\n",
        "axes[0].imshow(data[slices[0], :, :], cmap='gray')\n",
        "axes[0].set_title(\"Sagittal Slice\")\n",
        "\n",
        "axes[1].imshow(data[:, slices[1], :], cmap='gray')\n",
        "axes[1].set_title(\"Coronal Slice\")\n",
        "\n",
        "axes[2].imshow(data[:, :, slices[2]], cmap='gray')\n",
        "axes[2].set_title(\"Axial Slice\")\n",
        "\n",
        "for ax in axes:\n",
        "    ax.axis('off')\n",
        "\n",
        "plt.tight_layout()\n",
        "plt.show()\n"
      ],
      "metadata": {
        "id": "EKh4oEI6hFfF",
        "outputId": "a49856fb-33b4-4978-e924-8f9a3cb822fb",
        "colab": {
          "base_uri": "https://localhost:8080/",
          "height": 466
        }
      },
      "id": "EKh4oEI6hFfF",
      "execution_count": 11,
      "outputs": [
        {
          "output_type": "stream",
          "name": "stdout",
          "text": [
            "Shape: (602, 512, 512)\n",
            "Data type: float64\n",
            "Affine:\n",
            " [[ 0.          0.         -0.79882812  0.        ]\n",
            " [ 0.         -0.79882812  0.          0.        ]\n",
            " [-0.5         0.          0.          0.        ]\n",
            " [ 0.          0.          0.          1.        ]]\n"
          ]
        },
        {
          "output_type": "display_data",
          "data": {
            "text/plain": [
              "<Figure size 1200x400 with 3 Axes>"
            ],
            "image/png": "[encoded data removed]"
          },
          "metadata": {}
        }
      ]
    },
    {
      "cell_type": "code",
      "source": [
        "import glob\n",
        "\n",
        "root = \"/path/to/your/dataset\"\n",
        "\n",
        "case_paths = sorted(glob.glob(os.path.join(root, \"case_*\")))\n",
        "\n",
        "for case_path in case_paths:\n",
        "    instance_folder = os.path.join(case_path, \"instances\")\n",
        "    nii_files = sorted(glob.glob(os.path.join(instance_folder, \"*.nii.gz\")))\n",
        "\n",
        "    for nii_file in nii_files:\n",
        "        img = nib.load(nii_file)\n",
        "        data = img.get_fdata()\n",
        "        print(f\"{os.path.basename(nii_file)} -> shape: {data.shape}\")\n",
        "\n",
        "        plt.imshow(data[:, :, data.shape[2] // 2], cmap='gray')\n",
        "        plt.title(os.path.basename(nii_file))\n",
        "        plt.axis('off')\n",
        "        plt.show()\n"
      ],
      "metadata": {
        "id": "_jb5q_Y7mnwL"
      },
      "id": "_jb5q_Y7mnwL",
      "execution_count": null,
      "outputs": []
    },
    {
      "cell_type": "code",
      "source": [
        "pip install nibabel matplotlib numpy\n"
      ],
      "metadata": {
        "id": "U8CHC7B5rgzx",
        "outputId": "88f92412-2564-4623-b26b-e906ae95f05a",
        "colab": {
          "base_uri": "https://localhost:8080/"
        }
      },
      "id": "U8CHC7B5rgzx",
      "execution_count": 12,
      "outputs": [
        {
          "output_type": "stream",
          "name": "stdout",
          "text": [
            "Requirement already satisfied: nibabel in /usr/local/lib/python3.12/dist-packages (5.3.2)\n",
            "Requirement already satisfied: matplotlib in /usr/local/lib/python3.12/dist-packages (3.10.0)\n",
            "Requirement already satisfied: numpy in /usr/local/lib/python3.12/dist-packages (2.0.2)\n",
            "Requirement already satisfied: packaging>=20 in /usr/local/lib/python3.12/dist-packages (from nibabel) (25.0)\n",
            "Requirement already satisfied: typing-extensions>=4.6 in /usr/local/lib/python3.12/dist-packages (from nibabel) (4.15.0)\n",
            "Requirement already satisfied: contourpy>=1.0.1 in /usr/local/lib/python3.12/dist-packages (from matplotlib) (1.3.3)\n",
            "Requirement already satisfied: cycler>=0.10 in /usr/local/lib/python3.12/dist-packages (from matplotlib) (0.12.1)\n",
            "Requirement already satisfied: fonttools>=4.22.0 in /usr/local/lib/python3.12/dist-packages (from matplotlib) (4.60.1)\n",
            "Requirement already satisfied: kiwisolver>=1.3.1 in /usr/local/lib/python3.12/dist-packages (from matplotlib) (1.4.9)\n",
            "Requirement already satisfied: pillow>=8 in /usr/local/lib/python3.12/dist-packages (from matplotlib) (11.3.0)\n",
            "Requirement already satisfied: pyparsing>=2.3.1 in /usr/local/lib/python3.12/dist-packages (from matplotlib) (3.2.5)\n",
            "Requirement already satisfied: python-dateutil>=2.7 in /usr/local/lib/python3.12/dist-packages (from matplotlib) (2.9.0.post0)\n",
            "Requirement already satisfied: six>=1.5 in /usr/local/lib/python3.12/dist-packages (from python-dateutil>=2.7->matplotlib) (1.17.0)\n"
          ]
        }
      ]
    },
    {
      "cell_type": "code",
      "source": [
        "import nibabel as nib\n",
        "import numpy as np\n",
        "\n",
        "img = nib.load(\"/content/drive/MyDrive/kits23/dataset/case_00001/segmentation.nii.gz\")\n",
        "data = img.get_fdata()\n",
        "print(\"Unique values:\", np.unique(data))\n"
      ],
      "metadata": {
        "id": "2pLDAAmzrhUA",
        "outputId": "31605216-5608-4255-d063-e74083d4350b",
        "colab": {
          "base_uri": "https://localhost:8080/"
        }
      },
      "id": "2pLDAAmzrhUA",
      "execution_count": 14,
      "outputs": [
        {
          "output_type": "stream",
          "name": "stdout",
          "text": [
            "Unique values: [0. 1. 2.]\n"
          ]
        }
      ]
    },
    {
      "cell_type": "code",
      "source": [
        "import nibabel as nib\n",
        "import matplotlib.pyplot as plt\n",
        "import numpy as np\n",
        "from matplotlib.colors import ListedColormap\n",
        "\n",
        "# --- Path to segmentation file ---\n",
        "seg_path = r\"/content/drive/MyDrive/kits23/dataset/case_00001/segmentation.nii.gz\"\n",
        "\n",
        "# --- Load segmentation ---\n",
        "seg_img = nib.load(seg_path)\n",
        "seg_data = seg_img.get_fdata()\n",
        "\n",
        "print(\"Shape:\", seg_data.shape)\n",
        "print(\"Unique labels:\", np.unique(seg_data))\n",
        "\n",
        "# --- Pick a slice ---\n",
        "z = 150\n",
        "seg_slice = seg_data[:, :, z]\n",
        "\n",
        "# --- Define a color map (for up to 3 labels) ---\n",
        "colors = [\"black\", \"purple\", \"green\"]  # 0=background, 1=kidney, 2=tumor\n",
        "cmap = ListedColormap(colors)\n",
        "\n",
        "# --- Display ---\n",
        "plt.figure(figsize=(6,6))\n",
        "plt.imshow(seg_slice, cmap=cmap, interpolation='none')\n",
        "plt.title(f\"Segmentation slice {z}\")\n",
        "plt.axis('off')\n",
        "plt.show()\n"
      ],
      "metadata": {
        "id": "GvxnW1AtuF-L",
        "outputId": "81f2af56-3564-4e15-d5b3-76a02b159678",
        "colab": {
          "base_uri": "https://localhost:8080/",
          "height": 556
        }
      },
      "id": "GvxnW1AtuF-L",
      "execution_count": 19,
      "outputs": [
        {
          "output_type": "stream",
          "name": "stdout",
          "text": [
            "Shape: (602, 512, 512)\n",
            "Unique labels: [0. 1. 2.]\n"
          ]
        },
        {
          "output_type": "display_data",
          "data": {
            "text/plain": [
              "<Figure size 600x600 with 1 Axes>"
            ],
            "image/png": "[encoded data removed]"
          },
          "metadata": {}
        }
      ]
    },
    {
      "cell_type": "code",
      "source": [],
      "metadata": {
        "id": "1o66cqkiuqF-"
      },
      "id": "1o66cqkiuqF-",
      "execution_count": null,
      "outputs": []
    }
  ],
  "metadata": {
    "kernelspec": {
      "display_name": "Python 3",
      "language": "python",
      "name": "python3"
    },
    "language_info": {
      "codemirror_mode": {
        "name": "ipython",
        "version": 3
      },
      "file_extension": ".py",
      "mimetype": "text/x-python",
      "name": "python",
      "nbconvert_exporter": "python",
      "pygments_lexer": "ipython3",
      "version": "3.12.3"
    },
    "colab": {
      "provenance": [],
      "include_colab_link": true
    }
  },
  "nbformat": 4,
  "nbformat_minor": 5
}