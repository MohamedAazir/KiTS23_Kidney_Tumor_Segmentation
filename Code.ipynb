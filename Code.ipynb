{
  "cells": [
    {
      "cell_type": "code",
      "execution_count": null,
      "id": "00a406e4",
      "metadata": {
        "id": "00a406e4"
      },
      "outputs": [],
      "source": [
        "#Aazir"
      ]
    },
    {
      "cell_type": "code",
      "source": [
        "from google.colab import drive\n",
        "drive.mount('/content/drive')"
      ],
      "metadata": {
        "id": "Bm178bOpXBJR",
        "outputId": "69b467ce-3c05-413e-d617-b658ad666667",
        "colab": {
          "base_uri": "https://localhost:8080/"
        }
      },
      "id": "Bm178bOpXBJR",
      "execution_count": 1,
      "outputs": [
        {
          "output_type": "stream",
          "name": "stdout",
          "text": [
            "Mounted at /content/drive\n"
          ]
        }
      ]
    },
    {
      "cell_type": "code",
      "execution_count": 2,
      "id": "9c7a0eed",
      "metadata": {
        "id": "9c7a0eed",
        "outputId": "b1d37623-1705-48e9-edb0-62f8ab510133",
        "colab": {
          "base_uri": "https://localhost:8080/"
        }
      },
      "outputs": [
        {
          "output_type": "stream",
          "name": "stdout",
          "text": [
            "\u001b[2K   \u001b[90m━━━━━━━━━━━━━━━━━━━━━━━━━━━━━━━━━━━━━━━━\u001b[0m \u001b[32m2.7/2.7 MB\u001b[0m \u001b[31m24.6 MB/s\u001b[0m eta \u001b[36m0:00:00\u001b[0m\n",
            "\u001b[2K   \u001b[90m━━━━━━━━━━━━━━━━━━━━━━━━━━━━━━━━━━━━━━━━\u001b[0m \u001b[32m52.6/52.6 MB\u001b[0m \u001b[31m16.4 MB/s\u001b[0m eta \u001b[36m0:00:00\u001b[0m\n",
            "\u001b[?25h"
          ]
        }
      ],
      "source": [
        "# 1. Restart runtime after installing if prompted by Colab\n",
        "!pip install -q \"torch\" torchvision torchaudio --index-url https://download.pytorch.org/whl/cu118\n",
        "!pip install -q monai\n",
        "!pip install -q nibabel scikit-image pandas tqdm SimpleITK"
      ]
    },
    {
      "cell_type": "code",
      "source": [
        "import os, json, glob\n",
        "\n",
        "root = \"/content/drive/MyDrive/kits23/dataset\"   # your root\n",
        "\n",
        "case_folders = sorted([d for d in glob.glob(os.path.join(root, \"case_*\")) if os.path.isdir(d)])\n",
        "\n",
        "datalist = {\"training\": []}\n",
        "\n",
        "for case_path in case_folders:\n",
        "    case_id = os.path.basename(case_path)\n",
        "    # main label for the case\n",
        "    label_path = os.path.join(case_path, \"segmentation.nii.gz\")\n",
        "\n",
        "    # image path - if your CT images are inside a subfolder, adjust this\n",
        "    # For example, if your CT is inside 'images/CT.nii.gz' for each case, update accordingly\n",
        "    image_path = os.path.join(case_path, \"image.nii.gz\")  # <-- replace 'image.nii.gz' with your actual CT filename\n",
        "\n",
        "    if not os.path.exists(label_path) or not os.path.exists(image_path):\n",
        "        print(f\"Skipping {case_id}, missing image or label\")\n",
        "        continue\n",
        "\n",
        "    datalist[\"training\"].append({\n",
        "        \"image\": os.path.relpath(image_path, start=root),\n",
        "        \"label\": os.path.relpath(label_path, start=root),\n",
        "        \"image_filename\": os.path.basename(image_path)\n",
        "    })\n",
        "\n",
        "dataset_json = {\n",
        "    \"name\": \"KiTS23_custom\",\n",
        "    \"description\": \"KiTS23 formatted dataset from per-case folders\",\n",
        "    \"reference\": \"\",\n",
        "    \"licence\": \"\",\n",
        "    \"release\": \"0.0\",\n",
        "    \"modality\": {\"0\": \"CT\"},\n",
        "    \"labels\": {\"0\": \"background\", \"1\": \"kidney_and_mass\", \"2\": \"mass\", \"3\": \"tumor\"},\n",
        "    \"numTraining\": len(datalist[\"training\"]),\n",
        "    \"training\": datalist[\"training\"],\n",
        "    \"test\": []\n",
        "}\n",
        "\n",
        "with open(os.path.join(root, \"dataset.json\"), \"w\") as f:\n",
        "    json.dump(dataset_json, f, indent=2)\n",
        "\n",
        "print(\"dataset.json created with\", len(datalist[\"training\"]), \"cases\")\n"
      ],
      "metadata": {
        "id": "jkGF8CcivnlJ"
      },
      "id": "jkGF8CcivnlJ",
      "execution_count": null,
      "outputs": []
    }
  ],
  "metadata": {
    "kernelspec": {
      "display_name": "Python 3",
      "language": "python",
      "name": "python3"
    },
    "language_info": {
      "codemirror_mode": {
        "name": "ipython",
        "version": 3
      },
      "file_extension": ".py",
      "mimetype": "text/x-python",
      "name": "python",
      "nbconvert_exporter": "python",
      "pygments_lexer": "ipython3",
      "version": "3.12.3"
    },
    "colab": {
      "provenance": []
    }
  },
  "nbformat": 4,
  "nbformat_minor": 5
}