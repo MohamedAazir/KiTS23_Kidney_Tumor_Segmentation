{
  "cells": [
    {
      "cell_type": "code",
      "execution_count": null,
      "id": "8e87c1fa",
      "metadata": {
        "id": "8e87c1fa"
      },
      "outputs": [],
      "source": [
        "#new ipynb"
      ]
    },
    {
      "cell_type": "code",
      "source": [
        "!git clone https://github.com/neheller/kits23\n",
        "%cd kits23\n",
        "!pip3 install -e ."
      ],
      "metadata": {
        "id": "_izF2AyeIDi1",
        "outputId": "9929640d-a8dd-47d6-cf8c-c1a3a4db9390",
        "colab": {
          "base_uri": "https://localhost:8080/",
          "height": 1000
        }
      },
      "id": "_izF2AyeIDi1",
      "execution_count": 1,
      "outputs": [
        {
          "output_type": "stream",
          "name": "stdout",
          "text": [
            "Cloning into 'kits23'...\n",
            "remote: Enumerating objects: 15613, done.\u001b[K\n",
            "remote: Counting objects: 100% (87/87), done.\u001b[K\n",
            "remote: Compressing objects: 100% (54/54), done.\u001b[K\n",
            "remote: Total 15613 (delta 42), reused 62 (delta 30), pack-reused 15526 (from 1)\u001b[K\n",
            "Receiving objects: 100% (15613/15613), 493.94 MiB | 43.06 MiB/s, done.\n",
            "Resolving deltas: 100% (14011/14011), done.\n",
            "Updating files: 100% (5720/5720), done.\n",
            "/content/kits23\n",
            "Obtaining file:///content/kits23\n",
            "  Preparing metadata (setup.py) ... \u001b[?25l\u001b[?25hdone\n",
            "Collecting surface-distance@ git+https://github.com/deepmind/surface-distance.git (from kits23==0.1.4)\n",
            "  Cloning https://github.com/deepmind/surface-distance.git to /tmp/pip-install-7avuh4dc/surface-distance_c87575428c014946a2b7eabf15983b12\n",
            "  Running command git clone --filter=blob:none --quiet https://github.com/deepmind/surface-distance.git /tmp/pip-install-7avuh4dc/surface-distance_c87575428c014946a2b7eabf15983b12\n",
            "  Resolved https://github.com/deepmind/surface-distance.git to commit 1f805cea446805e559badc80dd27f34175e4173d\n",
            "  Preparing metadata (setup.py) ... \u001b[?25l\u001b[?25hdone\n",
            "Requirement already satisfied: numpy in /usr/local/lib/python3.12/dist-packages (from kits23==0.1.4) (2.0.2)\n",
            "Requirement already satisfied: scipy in /usr/local/lib/python3.12/dist-packages (from kits23==0.1.4) (1.16.2)\n",
            "Requirement already satisfied: scikit-image in /usr/local/lib/python3.12/dist-packages (from kits23==0.1.4) (0.25.2)\n",
            "Requirement already satisfied: opencv-python in /usr/local/lib/python3.12/dist-packages (from kits23==0.1.4) (4.12.0.88)\n",
            "Requirement already satisfied: nibabel in /usr/local/lib/python3.12/dist-packages (from kits23==0.1.4) (5.3.2)\n",
            "Requirement already satisfied: requests in /usr/local/lib/python3.12/dist-packages (from kits23==0.1.4) (2.32.4)\n",
            "Collecting argparse (from kits23==0.1.4)\n",
            "  Downloading argparse-1.4.0-py2.py3-none-any.whl.metadata (2.8 kB)\n",
            "Requirement already satisfied: tqdm in /usr/local/lib/python3.12/dist-packages (from kits23==0.1.4) (4.67.1)\n",
            "Requirement already satisfied: pytest in /usr/local/lib/python3.12/dist-packages (from kits23==0.1.4) (8.4.2)\n",
            "Collecting SimpleITK (from kits23==0.1.4)\n",
            "  Downloading simpleitk-2.5.2-cp311-abi3-manylinux2014_x86_64.manylinux_2_17_x86_64.whl.metadata (7.2 kB)\n",
            "Collecting batchgenerators (from kits23==0.1.4)\n",
            "  Downloading batchgenerators-0.25.1.tar.gz (76 kB)\n",
            "\u001b[2K     \u001b[90m━━━━━━━━━━━━━━━━━━━━━━━━━━━━━━━━━━━━━━━━\u001b[0m \u001b[32m77.0/77.0 kB\u001b[0m \u001b[31m3.9 MB/s\u001b[0m eta \u001b[36m0:00:00\u001b[0m\n",
            "\u001b[?25h  Preparing metadata (setup.py) ... \u001b[?25l\u001b[?25hdone\n",
            "Requirement already satisfied: pillow>=7.1.2 in /usr/local/lib/python3.12/dist-packages (from batchgenerators->kits23==0.1.4) (11.3.0)\n",
            "Requirement already satisfied: scikit-learn in /usr/local/lib/python3.12/dist-packages (from batchgenerators->kits23==0.1.4) (1.6.1)\n",
            "Requirement already satisfied: future in /usr/local/lib/python3.12/dist-packages (from batchgenerators->kits23==0.1.4) (1.0.0)\n",
            "Requirement already satisfied: pandas in /usr/local/lib/python3.12/dist-packages (from batchgenerators->kits23==0.1.4) (2.2.2)\n",
            "Collecting unittest2 (from batchgenerators->kits23==0.1.4)\n",
            "  Downloading unittest2-1.1.0-py2.py3-none-any.whl.metadata (15 kB)\n",
            "Requirement already satisfied: threadpoolctl in /usr/local/lib/python3.12/dist-packages (from batchgenerators->kits23==0.1.4) (3.6.0)\n",
            "Requirement already satisfied: packaging>=20 in /usr/local/lib/python3.12/dist-packages (from nibabel->kits23==0.1.4) (25.0)\n",
            "Requirement already satisfied: typing-extensions>=4.6 in /usr/local/lib/python3.12/dist-packages (from nibabel->kits23==0.1.4) (4.15.0)\n",
            "Requirement already satisfied: iniconfig>=1 in /usr/local/lib/python3.12/dist-packages (from pytest->kits23==0.1.4) (2.1.0)\n",
            "Requirement already satisfied: pluggy<2,>=1.5 in /usr/local/lib/python3.12/dist-packages (from pytest->kits23==0.1.4) (1.6.0)\n",
            "Requirement already satisfied: pygments>=2.7.2 in /usr/local/lib/python3.12/dist-packages (from pytest->kits23==0.1.4) (2.19.2)\n",
            "Requirement already satisfied: charset_normalizer<4,>=2 in /usr/local/lib/python3.12/dist-packages (from requests->kits23==0.1.4) (3.4.3)\n",
            "Requirement already satisfied: idna<4,>=2.5 in /usr/local/lib/python3.12/dist-packages (from requests->kits23==0.1.4) (3.10)\n",
            "Requirement already satisfied: urllib3<3,>=1.21.1 in /usr/local/lib/python3.12/dist-packages (from requests->kits23==0.1.4) (2.5.0)\n",
            "Requirement already satisfied: certifi>=2017.4.17 in /usr/local/lib/python3.12/dist-packages (from requests->kits23==0.1.4) (2025.10.5)\n",
            "Requirement already satisfied: networkx>=3.0 in /usr/local/lib/python3.12/dist-packages (from scikit-image->kits23==0.1.4) (3.5)\n",
            "Requirement already satisfied: imageio!=2.35.0,>=2.33 in /usr/local/lib/python3.12/dist-packages (from scikit-image->kits23==0.1.4) (2.37.0)\n",
            "Requirement already satisfied: tifffile>=2022.8.12 in /usr/local/lib/python3.12/dist-packages (from scikit-image->kits23==0.1.4) (2025.10.4)\n",
            "Requirement already satisfied: lazy-loader>=0.4 in /usr/local/lib/python3.12/dist-packages (from scikit-image->kits23==0.1.4) (0.4)\n",
            "Requirement already satisfied: absl-py in /usr/local/lib/python3.12/dist-packages (from surface-distance@ git+https://github.com/deepmind/surface-distance.git->kits23==0.1.4) (1.4.0)\n",
            "Requirement already satisfied: python-dateutil>=2.8.2 in /usr/local/lib/python3.12/dist-packages (from pandas->batchgenerators->kits23==0.1.4) (2.9.0.post0)\n",
            "Requirement already satisfied: pytz>=2020.1 in /usr/local/lib/python3.12/dist-packages (from pandas->batchgenerators->kits23==0.1.4) (2025.2)\n",
            "Requirement already satisfied: tzdata>=2022.7 in /usr/local/lib/python3.12/dist-packages (from pandas->batchgenerators->kits23==0.1.4) (2025.2)\n",
            "Requirement already satisfied: joblib>=1.2.0 in /usr/local/lib/python3.12/dist-packages (from scikit-learn->batchgenerators->kits23==0.1.4) (1.5.2)\n",
            "Requirement already satisfied: six>=1.4 in /usr/local/lib/python3.12/dist-packages (from unittest2->batchgenerators->kits23==0.1.4) (1.17.0)\n",
            "Collecting traceback2 (from unittest2->batchgenerators->kits23==0.1.4)\n",
            "  Downloading traceback2-1.4.0-py2.py3-none-any.whl.metadata (1.5 kB)\n",
            "Collecting linecache2 (from traceback2->unittest2->batchgenerators->kits23==0.1.4)\n",
            "  Downloading linecache2-1.0.0-py2.py3-none-any.whl.metadata (1000 bytes)\n",
            "Downloading argparse-1.4.0-py2.py3-none-any.whl (23 kB)\n",
            "Downloading simpleitk-2.5.2-cp311-abi3-manylinux2014_x86_64.manylinux_2_17_x86_64.whl (52.6 MB)\n",
            "\u001b[2K   \u001b[90m━━━━━━━━━━━━━━━━━━━━━━━━━━━━━━━━━━━━━━━━\u001b[0m \u001b[32m52.6/52.6 MB\u001b[0m \u001b[31m17.6 MB/s\u001b[0m eta \u001b[36m0:00:00\u001b[0m\n",
            "\u001b[?25hDownloading unittest2-1.1.0-py2.py3-none-any.whl (96 kB)\n",
            "\u001b[2K   \u001b[90m━━━━━━━━━━━━━━━━━━━━━━━━━━━━━━━━━━━━━━━━\u001b[0m \u001b[32m96.4/96.4 kB\u001b[0m \u001b[31m8.9 MB/s\u001b[0m eta \u001b[36m0:00:00\u001b[0m\n",
            "\u001b[?25hDownloading traceback2-1.4.0-py2.py3-none-any.whl (16 kB)\n",
            "Downloading linecache2-1.0.0-py2.py3-none-any.whl (12 kB)\n",
            "Building wheels for collected packages: batchgenerators, surface-distance\n",
            "  Building wheel for batchgenerators (setup.py) ... \u001b[?25l\u001b[?25hdone\n",
            "  Created wheel for batchgenerators: filename=batchgenerators-0.25.1-py3-none-any.whl size=93088 sha256=fa4615c1ff0f66af2316275233a56529600f3cd076ef72e4eb9b2f308dbcae67\n",
            "  Stored in directory: /root/.cache/pip/wheels/28/21/2b/7b25080f9f5847e6c3162b89d859d7cec9f3093158e56bd008\n",
            "  Building wheel for surface-distance (setup.py) ... \u001b[?25l\u001b[?25hdone\n",
            "  Created wheel for surface-distance: filename=surface_distance-0.1-py3-none-any.whl size=14711 sha256=7e2bfa2e692f990da89205b81d355201b46dc9ea4e26989ff29449085e0802dc\n",
            "  Stored in directory: /tmp/pip-ephem-wheel-cache-7iq4kw55/wheels/5d/6a/22/84f240296a84afde509cd3f33ef2cfc0abe60b02fd8f539c9a\n",
            "Successfully built batchgenerators surface-distance\n",
            "Installing collected packages: SimpleITK, linecache2, argparse, traceback2, unittest2, surface-distance, batchgenerators, kits23\n",
            "  Running setup.py develop for kits23\n",
            "Successfully installed SimpleITK-2.5.2 argparse-1.4.0 batchgenerators-0.25.1 kits23-0.1.4 linecache2-1.0.0 surface-distance-0.1 traceback2-1.4.0 unittest2-1.1.0\n"
          ]
        },
        {
          "output_type": "display_data",
          "data": {
            "application/vnd.colab-display-data+json": {
              "pip_warning": {
                "packages": [
                  "argparse"
                ]
              },
              "id": "920a038770c94fcdbc168466b619695a"
            }
          },
          "metadata": {}
        }
      ]
    },
    {
      "cell_type": "code",
      "source": [
        "!kits23_download_data"
      ],
      "metadata": {
        "id": "XHSGAKcjIa7Q",
        "outputId": "0b06c7b5-89ff-4010-e3f6-dba8e756dd26",
        "colab": {
          "base_uri": "https://localhost:8080/"
        }
      },
      "id": "XHSGAKcjIa7Q",
      "execution_count": 1,
      "outputs": [
        {
          "output_type": "stream",
          "name": "stdout",
          "text": [
            "\n",
            "Found 489 cases to download\n",
            "\n",
            "Dowloading case_00588...: 100% 489/489 [09:11<00:00,  1.13s/it]\n"
          ]
        }
      ]
    },
    {
      "cell_type": "code",
      "source": [
        "# 1. Restart runtime after installing if prompted by Colab\n",
        "!pip install -q \"torch\" torchvision torchaudio --index-url https://download.pytorch.org/whl/cu118\n",
        "!pip install -q monai\n",
        "!pip install -q nibabel scikit-image pandas tqdm SimpleITK"
      ],
      "metadata": {
        "id": "z2BlG3LR87tK",
        "outputId": "3dc2e73b-d3f5-492d-fd0c-cb59e170ea54",
        "colab": {
          "base_uri": "https://localhost:8080/"
        }
      },
      "id": "z2BlG3LR87tK",
      "execution_count": 2,
      "outputs": [
        {
          "output_type": "stream",
          "name": "stdout",
          "text": [
            "\u001b[?25l   \u001b[90m━━━━━━━━━━━━━━━━━━━━━━━━━━━━━━━━━━━━━━━━\u001b[0m \u001b[32m0.0/2.7 MB\u001b[0m \u001b[31m?\u001b[0m eta \u001b[36m-:--:--\u001b[0m\r\u001b[2K   \u001b[91m━━━━━━━━━━━━━━━━━━\u001b[0m\u001b[90m╺\u001b[0m\u001b[90m━━━━━━━━━━━━━━━━━━━━━\u001b[0m \u001b[32m1.2/2.7 MB\u001b[0m \u001b[31m36.8 MB/s\u001b[0m eta \u001b[36m0:00:01\u001b[0m\r\u001b[2K   \u001b[90m━━━━━━━━━━━━━━━━━━━━━━━━━━━━━━━━━━━━━━━━\u001b[0m \u001b[32m2.7/2.7 MB\u001b[0m \u001b[31m42.9 MB/s\u001b[0m eta \u001b[36m0:00:00\u001b[0m\n",
            "\u001b[?25h"
          ]
        }
      ]
    },
    {
      "cell_type": "code",
      "source": [
        "import os, json, glob\n",
        "import random\n",
        "\n",
        "root = \"/content/kits23/dataset\"\n",
        "\n",
        "# Get all case folders\n",
        "case_folders = sorted([d for d in glob.glob(os.path.join(root, \"case_*\")) if os.path.isdir(d)])\n",
        "\n",
        "datalist = {\"training\": []}\n",
        "\n",
        "num_folds = 5\n",
        "random.seed(42)  # for reproducibility\n",
        "\n",
        "for case_path in case_folders:\n",
        "    case_id = os.path.basename(case_path)\n",
        "\n",
        "    # Paths\n",
        "    label_path = os.path.join(case_path, \"segmentation.nii.gz\")\n",
        "    image_path = os.path.join(case_path, \"imaging.nii.gz\")\n",
        "\n",
        "    if not os.path.exists(label_path) or not os.path.exists(image_path):\n",
        "        print(f\"Skipping {case_id}, missing image or label\")\n",
        "        continue\n",
        "\n",
        "    # Random fold assignment\n",
        "    fold = random.randint(0, num_folds - 1)\n",
        "\n",
        "    datalist[\"training\"].append({\n",
        "        \"image\": os.path.relpath(image_path, start=root),\n",
        "        \"label\": os.path.relpath(label_path, start=root),\n",
        "        \"image_filename\": os.path.basename(image_path),\n",
        "        \"fold\": fold\n",
        "    })\n",
        "\n",
        "dataset_json = {\n",
        "    \"name\": \"KiTS23_custom_folds\",\n",
        "    \"description\": \"KiTS23 formatted dataset with random 5-fold split\",\n",
        "    \"reference\": \"\",\n",
        "    \"licence\": \"\",\n",
        "    \"release\": \"0.0\",\n",
        "    \"modality\": {\"0\": \"CT\"},\n",
        "    \"labels\": {\"0\": \"background\", \"1\": \"kidney_and_mass\", \"2\":\"mass\", \"3\":\"tumor\"},\n",
        "    \"numTraining\": len(datalist[\"training\"]),\n",
        "    \"training\": datalist[\"training\"],\n",
        "    \"test\": []\n",
        "}\n",
        "\n",
        "with open(os.path.join(root, \"dataset.json\"), \"w\") as f:\n",
        "    json.dump(dataset_json, f, indent=2)\n",
        "\n",
        "print(\"Wrote dataset.json with\", len(datalist[\"training\"]), \"cases and random fold assignments\")\n"
      ],
      "metadata": {
        "id": "9c4KttvQBTHg",
        "outputId": "30787e02-a319-46c3-978e-0bada5e5b87f",
        "colab": {
          "base_uri": "https://localhost:8080/"
        }
      },
      "id": "9c4KttvQBTHg",
      "execution_count": 5,
      "outputs": [
        {
          "output_type": "stream",
          "name": "stdout",
          "text": [
            "Wrote dataset.json with 489 cases and random fold assignments\n"
          ]
        }
      ]
    },
    {
      "cell_type": "code",
      "source": [
        "pip install fire"
      ],
      "metadata": {
        "id": "-Ra5DZT1GPfN",
        "outputId": "ce0fb6cd-06f3-49bb-815f-2cef440b97c7",
        "colab": {
          "base_uri": "https://localhost:8080/"
        }
      },
      "id": "-Ra5DZT1GPfN",
      "execution_count": 6,
      "outputs": [
        {
          "output_type": "stream",
          "name": "stdout",
          "text": [
            "Collecting fire\n",
            "  Downloading fire-0.7.1-py3-none-any.whl.metadata (5.8 kB)\n",
            "Requirement already satisfied: termcolor in /usr/local/lib/python3.12/dist-packages (from fire) (3.1.0)\n",
            "Downloading fire-0.7.1-py3-none-any.whl (115 kB)\n",
            "\u001b[?25l   \u001b[90m━━━━━━━━━━━━━━━━━━━━━━━━━━━━━━━━━━━━━━━━\u001b[0m \u001b[32m0.0/115.9 kB\u001b[0m \u001b[31m?\u001b[0m eta \u001b[36m-:--:--\u001b[0m\r\u001b[2K   \u001b[90m━━━━━━━━━━━━━━━━━━━━━━━━━━━━━━━━━━━━━━━━\u001b[0m \u001b[32m115.9/115.9 kB\u001b[0m \u001b[31m4.9 MB/s\u001b[0m eta \u001b[36m0:00:00\u001b[0m\n",
            "\u001b[?25hInstalling collected packages: fire\n",
            "Successfully installed fire-0.7.1\n"
          ]
        }
      ]
    },
    {
      "cell_type": "code",
      "source": [
        "!python -m monai.apps.auto3dseg AutoRunner run \\\n",
        "    --input \"/content/kits23/input.yaml\" \\\n",
        "    --algos segresnet\n"
      ],
      "metadata": {
        "colab": {
          "base_uri": "https://localhost:8080/"
        },
        "id": "4lzqhvZlB48x",
        "outputId": "ee404e96-66a5-4048-b97b-6fc248541ea1"
      },
      "id": "4lzqhvZlB48x",
      "execution_count": 10,
      "outputs": [
        {
          "output_type": "stream",
          "name": "stdout",
          "text": [
            "2025-10-16 13:40:51.766636: E external/local_xla/xla/stream_executor/cuda/cuda_fft.cc:467] Unable to register cuFFT factory: Attempting to register factory for plugin cuFFT when one has already been registered\n",
            "WARNING: All log messages before absl::InitializeLog() is called are written to STDERR\n",
            "E0000 00:00:1760622052.041587   11254 cuda_dnn.cc:8579] Unable to register cuDNN factory: Attempting to register factory for plugin cuDNN when one has already been registered\n",
            "E0000 00:00:1760622052.115676   11254 cuda_blas.cc:1407] Unable to register cuBLAS factory: Attempting to register factory for plugin cuBLAS when one has already been registered\n",
            "W0000 00:00:1760622052.615022   11254 computation_placer.cc:177] computation placer already registered. Please check linkage and avoid linking the same target more than once.\n",
            "W0000 00:00:1760622052.615072   11254 computation_placer.cc:177] computation placer already registered. Please check linkage and avoid linking the same target more than once.\n",
            "W0000 00:00:1760622052.615081   11254 computation_placer.cc:177] computation placer already registered. Please check linkage and avoid linking the same target more than once.\n",
            "W0000 00:00:1760622052.615088   11254 computation_placer.cc:177] computation placer already registered. Please check linkage and avoid linking the same target more than once.\n",
            "2025-10-16 13:40:52.674873: I tensorflow/core/platform/cpu_feature_guard.cc:210] This TensorFlow binary is optimized to use available CPU instructions in performance-critical operations.\n",
            "To enable the following instructions: AVX2 FMA, in other operations, rebuild TensorFlow with the appropriate compiler flags.\n",
            "2025-10-16 13:41:05,676 - INFO - Loading input config /content/kits23/input.yaml\n",
            "2025-10-16 13:41:05,676 - INFO - AutoRunner using work directory /content/work_dir\n",
            "2025-10-16 13:41:05,683 - INFO - Datalist was copied to work_dir: /content/work_dir/dataset.json\n",
            "2025-10-16 13:41:05,685 - INFO - Found num_fold 5 based on the input datalist /content/work_dir/dataset.json.\n",
            "2025-10-16 13:41:05,685 - INFO - Setting num_fold 5 based on the input datalist /content/work_dir/dataset.json.\n",
            "2025-10-16 13:41:05,686 - INFO - Using user defined command running prefix , will override other settings\n",
            "2025-10-16 13:41:05,686 - INFO - Running data analysis...\n",
            "2025-10-16 13:41:05,686 - INFO - Found 1 GPUs for data analyzing!\n",
            "/usr/local/lib/python3.12/dist-packages/monai/utils/deprecate_utils.py:321: FutureWarning: monai.transforms.spatial.dictionary Orientationd.__init__:labels: Current default value of argument `labels=(('L', 'R'), ('P', 'A'), ('I', 'S'))` was changed in version None from `labels=(('L', 'R'), ('P', 'A'), ('I', 'S'))` to `labels=None`. Default value changed to None meaning that the transform now uses the 'space' of a meta-tensor, if applicable, to determine appropriate axis labels.\n",
            "  warn_deprecated(argname, msg, warning_category)\n",
            "/usr/local/lib/python3.12/dist-packages/torch/utils/data/dataloader.py:627: UserWarning: This DataLoader will create 4 worker processes in total. Our suggested max number of worker in current system is 2, which is smaller than what this DataLoader is going to create. Please be aware that excessive worker creation might get DataLoader running slow or even freeze, lower the worker number to avoid potential slowness/freeze if necessary.\n",
            "  warnings.warn(\n",
            "  0% 0/489 [00:00<?, ?it/s]^C\n"
          ]
        }
      ]
    },
    {
      "cell_type": "code",
      "source": [
        "!python -m monai.apps.auto3dseg AutoRunner run \\\n",
        "    --input \"/content/kits23/input.yaml\" \\\n",
        "    --algos segresnet"
      ],
      "metadata": {
        "id": "OnYK-oAbFSLZ",
        "outputId": "729444a7-d43e-4877-8633-bc9ff8c0601c",
        "colab": {
          "base_uri": "https://localhost:8080/"
        }
      },
      "id": "OnYK-oAbFSLZ",
      "execution_count": 11,
      "outputs": [
        {
          "output_type": "stream",
          "name": "stdout",
          "text": [
            "2025-10-16 13:46:10.209695: E external/local_xla/xla/stream_executor/cuda/cuda_fft.cc:467] Unable to register cuFFT factory: Attempting to register factory for plugin cuFFT when one has already been registered\n",
            "WARNING: All log messages before absl::InitializeLog() is called are written to STDERR\n",
            "E0000 00:00:1760622370.472704   12621 cuda_dnn.cc:8579] Unable to register cuDNN factory: Attempting to register factory for plugin cuDNN when one has already been registered\n",
            "E0000 00:00:1760622370.545006   12621 cuda_blas.cc:1407] Unable to register cuBLAS factory: Attempting to register factory for plugin cuBLAS when one has already been registered\n",
            "W0000 00:00:1760622371.083103   12621 computation_placer.cc:177] computation placer already registered. Please check linkage and avoid linking the same target more than once.\n",
            "W0000 00:00:1760622371.083148   12621 computation_placer.cc:177] computation placer already registered. Please check linkage and avoid linking the same target more than once.\n",
            "W0000 00:00:1760622371.083153   12621 computation_placer.cc:177] computation placer already registered. Please check linkage and avoid linking the same target more than once.\n",
            "W0000 00:00:1760622371.083157   12621 computation_placer.cc:177] computation placer already registered. Please check linkage and avoid linking the same target more than once.\n",
            "2025-10-16 13:46:11.140510: I tensorflow/core/platform/cpu_feature_guard.cc:210] This TensorFlow binary is optimized to use available CPU instructions in performance-critical operations.\n",
            "To enable the following instructions: AVX2 FMA, in other operations, rebuild TensorFlow with the appropriate compiler flags.\n",
            "/usr/local/lib/python3.12/dist-packages/monai/utils/misc.py:770: UserWarning: Duplicate key: `datalist`\n",
            "  warnings.warn(f\"Duplicate key: `{key}`\")\n",
            "2025-10-16 13:46:24,163 - INFO - Loading input config /content/kits23/input.yaml\n",
            "2025-10-16 13:46:24,163 - INFO - AutoRunner using work directory /content/work_dir\n",
            "Traceback (most recent call last):\n",
            "  File \"<frozen runpy>\", line 198, in _run_module_as_main\n",
            "  File \"<frozen runpy>\", line 88, in _run_code\n",
            "  File \"/usr/local/lib/python3.12/dist-packages/monai/apps/auto3dseg/__main__.py\", line 24, in <module>\n",
            "    fire.Fire(\n",
            "  File \"/usr/local/lib/python3.12/dist-packages/fire/core.py\", line 135, in Fire\n",
            "    component_trace = _Fire(component, args, parsed_flag_args, context, name)\n",
            "                      ^^^^^^^^^^^^^^^^^^^^^^^^^^^^^^^^^^^^^^^^^^^^^^^^^^^^^^^\n",
            "  File \"/usr/local/lib/python3.12/dist-packages/fire/core.py\", line 468, in _Fire\n",
            "    component, remaining_args = _CallAndUpdateTrace(\n",
            "                                ^^^^^^^^^^^^^^^^^^^^\n",
            "  File \"/usr/local/lib/python3.12/dist-packages/fire/core.py\", line 684, in _CallAndUpdateTrace\n",
            "    component = fn(*varargs, **kwargs)\n",
            "                ^^^^^^^^^^^^^^^^^^^^^^\n",
            "  File \"/usr/local/lib/python3.12/dist-packages/monai/apps/auto3dseg/auto_runner.py\", line 298, in __init__\n",
            "    raise ValueError(f\"Datalist file is not found {self.data_src_cfg['datalist']}\")\n",
            "ValueError: Datalist file is not found /content/kits23/dataset.json\n"
          ]
        }
      ]
    },
    {
      "cell_type": "code",
      "source": [],
      "metadata": {
        "id": "diFZ2P97RQrg"
      },
      "id": "diFZ2P97RQrg",
      "execution_count": null,
      "outputs": []
    }
  ],
  "metadata": {
    "kernelspec": {
      "display_name": "Python 3",
      "name": "python3"
    },
    "language_info": {
      "codemirror_mode": {
        "name": "ipython",
        "version": 3
      },
      "file_extension": ".py",
      "mimetype": "text/x-python",
      "name": "python",
      "nbconvert_exporter": "python",
      "pygments_lexer": "ipython3",
      "version": "3.11.1"
    },
    "colab": {
      "provenance": [],
      "gpuType": "T4"
    },
    "accelerator": "GPU"
  },
  "nbformat": 4,
  "nbformat_minor": 5
}